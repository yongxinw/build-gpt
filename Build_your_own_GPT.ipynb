{
  "nbformat": 4,
  "nbformat_minor": 0,
  "metadata": {
    "colab": {
      "provenance": [],
      "machine_shape": "hm",
      "gpuType": "A100"
    },
    "kernelspec": {
      "name": "python3",
      "display_name": "Python 3"
    },
    "language_info": {
      "name": "python"
    },
    "accelerator": "GPU",
    "widgets": {
      "application/vnd.jupyter.widget-state+json": {
        "c32c55e3c8f1494895dbdd6d283034d3": {
          "model_module": "@jupyter-widgets/controls",
          "model_name": "HBoxModel",
          "model_module_version": "1.5.0",
          "state": {
            "_dom_classes": [],
            "_model_module": "@jupyter-widgets/controls",
            "_model_module_version": "1.5.0",
            "_model_name": "HBoxModel",
            "_view_count": null,
            "_view_module": "@jupyter-widgets/controls",
            "_view_module_version": "1.5.0",
            "_view_name": "HBoxView",
            "box_style": "",
            "children": [
              "IPY_MODEL_eaf236153b9e44e59b66bf5433c310c4",
              "IPY_MODEL_b9a2bc39c06d47cdac39d2b958b32d06",
              "IPY_MODEL_dd8052a38ac643f8af9b3375c5be3c70"
            ],
            "layout": "IPY_MODEL_2b5a5532349443d6bf96da35200509e8"
          }
        },
        "eaf236153b9e44e59b66bf5433c310c4": {
          "model_module": "@jupyter-widgets/controls",
          "model_name": "HTMLModel",
          "model_module_version": "1.5.0",
          "state": {
            "_dom_classes": [],
            "_model_module": "@jupyter-widgets/controls",
            "_model_module_version": "1.5.0",
            "_model_name": "HTMLModel",
            "_view_count": null,
            "_view_module": "@jupyter-widgets/controls",
            "_view_module_version": "1.5.0",
            "_view_name": "HTMLView",
            "description": "",
            "description_tooltip": null,
            "layout": "IPY_MODEL_d3f27bcee887491cbdf9b3d15158d865",
            "placeholder": "​",
            "style": "IPY_MODEL_a3e6b60073434aac955dea05a4263f6c",
            "value": "Downloading (…)lve/main/config.json: 100%"
          }
        },
        "b9a2bc39c06d47cdac39d2b958b32d06": {
          "model_module": "@jupyter-widgets/controls",
          "model_name": "FloatProgressModel",
          "model_module_version": "1.5.0",
          "state": {
            "_dom_classes": [],
            "_model_module": "@jupyter-widgets/controls",
            "_model_module_version": "1.5.0",
            "_model_name": "FloatProgressModel",
            "_view_count": null,
            "_view_module": "@jupyter-widgets/controls",
            "_view_module_version": "1.5.0",
            "_view_name": "ProgressView",
            "bar_style": "success",
            "description": "",
            "description_tooltip": null,
            "layout": "IPY_MODEL_021f5d5812524136a8bc8537a1e60e44",
            "max": 665,
            "min": 0,
            "orientation": "horizontal",
            "style": "IPY_MODEL_36984903fb00456693cf3ee4bc8c46a8",
            "value": 665
          }
        },
        "dd8052a38ac643f8af9b3375c5be3c70": {
          "model_module": "@jupyter-widgets/controls",
          "model_name": "HTMLModel",
          "model_module_version": "1.5.0",
          "state": {
            "_dom_classes": [],
            "_model_module": "@jupyter-widgets/controls",
            "_model_module_version": "1.5.0",
            "_model_name": "HTMLModel",
            "_view_count": null,
            "_view_module": "@jupyter-widgets/controls",
            "_view_module_version": "1.5.0",
            "_view_name": "HTMLView",
            "description": "",
            "description_tooltip": null,
            "layout": "IPY_MODEL_0d95281a131841fe8e517987044f993b",
            "placeholder": "​",
            "style": "IPY_MODEL_b7c21a58014b450780258bb774ad35e5",
            "value": " 665/665 [00:00&lt;00:00, 54.6kB/s]"
          }
        },
        "2b5a5532349443d6bf96da35200509e8": {
          "model_module": "@jupyter-widgets/base",
          "model_name": "LayoutModel",
          "model_module_version": "1.2.0",
          "state": {
            "_model_module": "@jupyter-widgets/base",
            "_model_module_version": "1.2.0",
            "_model_name": "LayoutModel",
            "_view_count": null,
            "_view_module": "@jupyter-widgets/base",
            "_view_module_version": "1.2.0",
            "_view_name": "LayoutView",
            "align_content": null,
            "align_items": null,
            "align_self": null,
            "border": null,
            "bottom": null,
            "display": null,
            "flex": null,
            "flex_flow": null,
            "grid_area": null,
            "grid_auto_columns": null,
            "grid_auto_flow": null,
            "grid_auto_rows": null,
            "grid_column": null,
            "grid_gap": null,
            "grid_row": null,
            "grid_template_areas": null,
            "grid_template_columns": null,
            "grid_template_rows": null,
            "height": null,
            "justify_content": null,
            "justify_items": null,
            "left": null,
            "margin": null,
            "max_height": null,
            "max_width": null,
            "min_height": null,
            "min_width": null,
            "object_fit": null,
            "object_position": null,
            "order": null,
            "overflow": null,
            "overflow_x": null,
            "overflow_y": null,
            "padding": null,
            "right": null,
            "top": null,
            "visibility": null,
            "width": null
          }
        },
        "d3f27bcee887491cbdf9b3d15158d865": {
          "model_module": "@jupyter-widgets/base",
          "model_name": "LayoutModel",
          "model_module_version": "1.2.0",
          "state": {
            "_model_module": "@jupyter-widgets/base",
            "_model_module_version": "1.2.0",
            "_model_name": "LayoutModel",
            "_view_count": null,
            "_view_module": "@jupyter-widgets/base",
            "_view_module_version": "1.2.0",
            "_view_name": "LayoutView",
            "align_content": null,
            "align_items": null,
            "align_self": null,
            "border": null,
            "bottom": null,
            "display": null,
            "flex": null,
            "flex_flow": null,
            "grid_area": null,
            "grid_auto_columns": null,
            "grid_auto_flow": null,
            "grid_auto_rows": null,
            "grid_column": null,
            "grid_gap": null,
            "grid_row": null,
            "grid_template_areas": null,
            "grid_template_columns": null,
            "grid_template_rows": null,
            "height": null,
            "justify_content": null,
            "justify_items": null,
            "left": null,
            "margin": null,
            "max_height": null,
            "max_width": null,
            "min_height": null,
            "min_width": null,
            "object_fit": null,
            "object_position": null,
            "order": null,
            "overflow": null,
            "overflow_x": null,
            "overflow_y": null,
            "padding": null,
            "right": null,
            "top": null,
            "visibility": null,
            "width": null
          }
        },
        "a3e6b60073434aac955dea05a4263f6c": {
          "model_module": "@jupyter-widgets/controls",
          "model_name": "DescriptionStyleModel",
          "model_module_version": "1.5.0",
          "state": {
            "_model_module": "@jupyter-widgets/controls",
            "_model_module_version": "1.5.0",
            "_model_name": "DescriptionStyleModel",
            "_view_count": null,
            "_view_module": "@jupyter-widgets/base",
            "_view_module_version": "1.2.0",
            "_view_name": "StyleView",
            "description_width": ""
          }
        },
        "021f5d5812524136a8bc8537a1e60e44": {
          "model_module": "@jupyter-widgets/base",
          "model_name": "LayoutModel",
          "model_module_version": "1.2.0",
          "state": {
            "_model_module": "@jupyter-widgets/base",
            "_model_module_version": "1.2.0",
            "_model_name": "LayoutModel",
            "_view_count": null,
            "_view_module": "@jupyter-widgets/base",
            "_view_module_version": "1.2.0",
            "_view_name": "LayoutView",
            "align_content": null,
            "align_items": null,
            "align_self": null,
            "border": null,
            "bottom": null,
            "display": null,
            "flex": null,
            "flex_flow": null,
            "grid_area": null,
            "grid_auto_columns": null,
            "grid_auto_flow": null,
            "grid_auto_rows": null,
            "grid_column": null,
            "grid_gap": null,
            "grid_row": null,
            "grid_template_areas": null,
            "grid_template_columns": null,
            "grid_template_rows": null,
            "height": null,
            "justify_content": null,
            "justify_items": null,
            "left": null,
            "margin": null,
            "max_height": null,
            "max_width": null,
            "min_height": null,
            "min_width": null,
            "object_fit": null,
            "object_position": null,
            "order": null,
            "overflow": null,
            "overflow_x": null,
            "overflow_y": null,
            "padding": null,
            "right": null,
            "top": null,
            "visibility": null,
            "width": null
          }
        },
        "36984903fb00456693cf3ee4bc8c46a8": {
          "model_module": "@jupyter-widgets/controls",
          "model_name": "ProgressStyleModel",
          "model_module_version": "1.5.0",
          "state": {
            "_model_module": "@jupyter-widgets/controls",
            "_model_module_version": "1.5.0",
            "_model_name": "ProgressStyleModel",
            "_view_count": null,
            "_view_module": "@jupyter-widgets/base",
            "_view_module_version": "1.2.0",
            "_view_name": "StyleView",
            "bar_color": null,
            "description_width": ""
          }
        },
        "0d95281a131841fe8e517987044f993b": {
          "model_module": "@jupyter-widgets/base",
          "model_name": "LayoutModel",
          "model_module_version": "1.2.0",
          "state": {
            "_model_module": "@jupyter-widgets/base",
            "_model_module_version": "1.2.0",
            "_model_name": "LayoutModel",
            "_view_count": null,
            "_view_module": "@jupyter-widgets/base",
            "_view_module_version": "1.2.0",
            "_view_name": "LayoutView",
            "align_content": null,
            "align_items": null,
            "align_self": null,
            "border": null,
            "bottom": null,
            "display": null,
            "flex": null,
            "flex_flow": null,
            "grid_area": null,
            "grid_auto_columns": null,
            "grid_auto_flow": null,
            "grid_auto_rows": null,
            "grid_column": null,
            "grid_gap": null,
            "grid_row": null,
            "grid_template_areas": null,
            "grid_template_columns": null,
            "grid_template_rows": null,
            "height": null,
            "justify_content": null,
            "justify_items": null,
            "left": null,
            "margin": null,
            "max_height": null,
            "max_width": null,
            "min_height": null,
            "min_width": null,
            "object_fit": null,
            "object_position": null,
            "order": null,
            "overflow": null,
            "overflow_x": null,
            "overflow_y": null,
            "padding": null,
            "right": null,
            "top": null,
            "visibility": null,
            "width": null
          }
        },
        "b7c21a58014b450780258bb774ad35e5": {
          "model_module": "@jupyter-widgets/controls",
          "model_name": "DescriptionStyleModel",
          "model_module_version": "1.5.0",
          "state": {
            "_model_module": "@jupyter-widgets/controls",
            "_model_module_version": "1.5.0",
            "_model_name": "DescriptionStyleModel",
            "_view_count": null,
            "_view_module": "@jupyter-widgets/base",
            "_view_module_version": "1.2.0",
            "_view_name": "StyleView",
            "description_width": ""
          }
        },
        "250871207c6c472fb1ebfae6351d0fe5": {
          "model_module": "@jupyter-widgets/controls",
          "model_name": "HBoxModel",
          "model_module_version": "1.5.0",
          "state": {
            "_dom_classes": [],
            "_model_module": "@jupyter-widgets/controls",
            "_model_module_version": "1.5.0",
            "_model_name": "HBoxModel",
            "_view_count": null,
            "_view_module": "@jupyter-widgets/controls",
            "_view_module_version": "1.5.0",
            "_view_name": "HBoxView",
            "box_style": "",
            "children": [
              "IPY_MODEL_ce461edd301a4f9f94bb87fd77f6d602",
              "IPY_MODEL_9f4e8619916c42c995754a1dfec79c78",
              "IPY_MODEL_73cdfccf4e314797b73bffbc01087950"
            ],
            "layout": "IPY_MODEL_a7ff2cdc18284490a6a13ba8480f9b3e"
          }
        },
        "ce461edd301a4f9f94bb87fd77f6d602": {
          "model_module": "@jupyter-widgets/controls",
          "model_name": "HTMLModel",
          "model_module_version": "1.5.0",
          "state": {
            "_dom_classes": [],
            "_model_module": "@jupyter-widgets/controls",
            "_model_module_version": "1.5.0",
            "_model_name": "HTMLModel",
            "_view_count": null,
            "_view_module": "@jupyter-widgets/controls",
            "_view_module_version": "1.5.0",
            "_view_name": "HTMLView",
            "description": "",
            "description_tooltip": null,
            "layout": "IPY_MODEL_c0e5a24cc04c4c9ea38c9c94fa620860",
            "placeholder": "​",
            "style": "IPY_MODEL_0250b7d7e8b9413282b39a0d952c05a0",
            "value": "Downloading (…)olve/main/vocab.json: 100%"
          }
        },
        "9f4e8619916c42c995754a1dfec79c78": {
          "model_module": "@jupyter-widgets/controls",
          "model_name": "FloatProgressModel",
          "model_module_version": "1.5.0",
          "state": {
            "_dom_classes": [],
            "_model_module": "@jupyter-widgets/controls",
            "_model_module_version": "1.5.0",
            "_model_name": "FloatProgressModel",
            "_view_count": null,
            "_view_module": "@jupyter-widgets/controls",
            "_view_module_version": "1.5.0",
            "_view_name": "ProgressView",
            "bar_style": "success",
            "description": "",
            "description_tooltip": null,
            "layout": "IPY_MODEL_015a0ff61b514aa19edb653f11a71622",
            "max": 1042301,
            "min": 0,
            "orientation": "horizontal",
            "style": "IPY_MODEL_6b7865f1fe3c4ed7a003031c90623e8a",
            "value": 1042301
          }
        },
        "73cdfccf4e314797b73bffbc01087950": {
          "model_module": "@jupyter-widgets/controls",
          "model_name": "HTMLModel",
          "model_module_version": "1.5.0",
          "state": {
            "_dom_classes": [],
            "_model_module": "@jupyter-widgets/controls",
            "_model_module_version": "1.5.0",
            "_model_name": "HTMLModel",
            "_view_count": null,
            "_view_module": "@jupyter-widgets/controls",
            "_view_module_version": "1.5.0",
            "_view_name": "HTMLView",
            "description": "",
            "description_tooltip": null,
            "layout": "IPY_MODEL_ed96d06ec05b47d8afad334de07c56c2",
            "placeholder": "​",
            "style": "IPY_MODEL_c7ce5a0993ed4feea296858d918e60f7",
            "value": " 1.04M/1.04M [00:00&lt;00:00, 7.59MB/s]"
          }
        },
        "a7ff2cdc18284490a6a13ba8480f9b3e": {
          "model_module": "@jupyter-widgets/base",
          "model_name": "LayoutModel",
          "model_module_version": "1.2.0",
          "state": {
            "_model_module": "@jupyter-widgets/base",
            "_model_module_version": "1.2.0",
            "_model_name": "LayoutModel",
            "_view_count": null,
            "_view_module": "@jupyter-widgets/base",
            "_view_module_version": "1.2.0",
            "_view_name": "LayoutView",
            "align_content": null,
            "align_items": null,
            "align_self": null,
            "border": null,
            "bottom": null,
            "display": null,
            "flex": null,
            "flex_flow": null,
            "grid_area": null,
            "grid_auto_columns": null,
            "grid_auto_flow": null,
            "grid_auto_rows": null,
            "grid_column": null,
            "grid_gap": null,
            "grid_row": null,
            "grid_template_areas": null,
            "grid_template_columns": null,
            "grid_template_rows": null,
            "height": null,
            "justify_content": null,
            "justify_items": null,
            "left": null,
            "margin": null,
            "max_height": null,
            "max_width": null,
            "min_height": null,
            "min_width": null,
            "object_fit": null,
            "object_position": null,
            "order": null,
            "overflow": null,
            "overflow_x": null,
            "overflow_y": null,
            "padding": null,
            "right": null,
            "top": null,
            "visibility": null,
            "width": null
          }
        },
        "c0e5a24cc04c4c9ea38c9c94fa620860": {
          "model_module": "@jupyter-widgets/base",
          "model_name": "LayoutModel",
          "model_module_version": "1.2.0",
          "state": {
            "_model_module": "@jupyter-widgets/base",
            "_model_module_version": "1.2.0",
            "_model_name": "LayoutModel",
            "_view_count": null,
            "_view_module": "@jupyter-widgets/base",
            "_view_module_version": "1.2.0",
            "_view_name": "LayoutView",
            "align_content": null,
            "align_items": null,
            "align_self": null,
            "border": null,
            "bottom": null,
            "display": null,
            "flex": null,
            "flex_flow": null,
            "grid_area": null,
            "grid_auto_columns": null,
            "grid_auto_flow": null,
            "grid_auto_rows": null,
            "grid_column": null,
            "grid_gap": null,
            "grid_row": null,
            "grid_template_areas": null,
            "grid_template_columns": null,
            "grid_template_rows": null,
            "height": null,
            "justify_content": null,
            "justify_items": null,
            "left": null,
            "margin": null,
            "max_height": null,
            "max_width": null,
            "min_height": null,
            "min_width": null,
            "object_fit": null,
            "object_position": null,
            "order": null,
            "overflow": null,
            "overflow_x": null,
            "overflow_y": null,
            "padding": null,
            "right": null,
            "top": null,
            "visibility": null,
            "width": null
          }
        },
        "0250b7d7e8b9413282b39a0d952c05a0": {
          "model_module": "@jupyter-widgets/controls",
          "model_name": "DescriptionStyleModel",
          "model_module_version": "1.5.0",
          "state": {
            "_model_module": "@jupyter-widgets/controls",
            "_model_module_version": "1.5.0",
            "_model_name": "DescriptionStyleModel",
            "_view_count": null,
            "_view_module": "@jupyter-widgets/base",
            "_view_module_version": "1.2.0",
            "_view_name": "StyleView",
            "description_width": ""
          }
        },
        "015a0ff61b514aa19edb653f11a71622": {
          "model_module": "@jupyter-widgets/base",
          "model_name": "LayoutModel",
          "model_module_version": "1.2.0",
          "state": {
            "_model_module": "@jupyter-widgets/base",
            "_model_module_version": "1.2.0",
            "_model_name": "LayoutModel",
            "_view_count": null,
            "_view_module": "@jupyter-widgets/base",
            "_view_module_version": "1.2.0",
            "_view_name": "LayoutView",
            "align_content": null,
            "align_items": null,
            "align_self": null,
            "border": null,
            "bottom": null,
            "display": null,
            "flex": null,
            "flex_flow": null,
            "grid_area": null,
            "grid_auto_columns": null,
            "grid_auto_flow": null,
            "grid_auto_rows": null,
            "grid_column": null,
            "grid_gap": null,
            "grid_row": null,
            "grid_template_areas": null,
            "grid_template_columns": null,
            "grid_template_rows": null,
            "height": null,
            "justify_content": null,
            "justify_items": null,
            "left": null,
            "margin": null,
            "max_height": null,
            "max_width": null,
            "min_height": null,
            "min_width": null,
            "object_fit": null,
            "object_position": null,
            "order": null,
            "overflow": null,
            "overflow_x": null,
            "overflow_y": null,
            "padding": null,
            "right": null,
            "top": null,
            "visibility": null,
            "width": null
          }
        },
        "6b7865f1fe3c4ed7a003031c90623e8a": {
          "model_module": "@jupyter-widgets/controls",
          "model_name": "ProgressStyleModel",
          "model_module_version": "1.5.0",
          "state": {
            "_model_module": "@jupyter-widgets/controls",
            "_model_module_version": "1.5.0",
            "_model_name": "ProgressStyleModel",
            "_view_count": null,
            "_view_module": "@jupyter-widgets/base",
            "_view_module_version": "1.2.0",
            "_view_name": "StyleView",
            "bar_color": null,
            "description_width": ""
          }
        },
        "ed96d06ec05b47d8afad334de07c56c2": {
          "model_module": "@jupyter-widgets/base",
          "model_name": "LayoutModel",
          "model_module_version": "1.2.0",
          "state": {
            "_model_module": "@jupyter-widgets/base",
            "_model_module_version": "1.2.0",
            "_model_name": "LayoutModel",
            "_view_count": null,
            "_view_module": "@jupyter-widgets/base",
            "_view_module_version": "1.2.0",
            "_view_name": "LayoutView",
            "align_content": null,
            "align_items": null,
            "align_self": null,
            "border": null,
            "bottom": null,
            "display": null,
            "flex": null,
            "flex_flow": null,
            "grid_area": null,
            "grid_auto_columns": null,
            "grid_auto_flow": null,
            "grid_auto_rows": null,
            "grid_column": null,
            "grid_gap": null,
            "grid_row": null,
            "grid_template_areas": null,
            "grid_template_columns": null,
            "grid_template_rows": null,
            "height": null,
            "justify_content": null,
            "justify_items": null,
            "left": null,
            "margin": null,
            "max_height": null,
            "max_width": null,
            "min_height": null,
            "min_width": null,
            "object_fit": null,
            "object_position": null,
            "order": null,
            "overflow": null,
            "overflow_x": null,
            "overflow_y": null,
            "padding": null,
            "right": null,
            "top": null,
            "visibility": null,
            "width": null
          }
        },
        "c7ce5a0993ed4feea296858d918e60f7": {
          "model_module": "@jupyter-widgets/controls",
          "model_name": "DescriptionStyleModel",
          "model_module_version": "1.5.0",
          "state": {
            "_model_module": "@jupyter-widgets/controls",
            "_model_module_version": "1.5.0",
            "_model_name": "DescriptionStyleModel",
            "_view_count": null,
            "_view_module": "@jupyter-widgets/base",
            "_view_module_version": "1.2.0",
            "_view_name": "StyleView",
            "description_width": ""
          }
        },
        "ab7d87d872af4c559d8118b6131d64bb": {
          "model_module": "@jupyter-widgets/controls",
          "model_name": "HBoxModel",
          "model_module_version": "1.5.0",
          "state": {
            "_dom_classes": [],
            "_model_module": "@jupyter-widgets/controls",
            "_model_module_version": "1.5.0",
            "_model_name": "HBoxModel",
            "_view_count": null,
            "_view_module": "@jupyter-widgets/controls",
            "_view_module_version": "1.5.0",
            "_view_name": "HBoxView",
            "box_style": "",
            "children": [
              "IPY_MODEL_e1249216037b48729e27f721ea876e09",
              "IPY_MODEL_e9cf0153ec524fc49fbd737ae7bccf2a",
              "IPY_MODEL_caea5f5919d94b81814d8bf63b393e2a"
            ],
            "layout": "IPY_MODEL_26b595a600494263bdc9eea3e08b1e65"
          }
        },
        "e1249216037b48729e27f721ea876e09": {
          "model_module": "@jupyter-widgets/controls",
          "model_name": "HTMLModel",
          "model_module_version": "1.5.0",
          "state": {
            "_dom_classes": [],
            "_model_module": "@jupyter-widgets/controls",
            "_model_module_version": "1.5.0",
            "_model_name": "HTMLModel",
            "_view_count": null,
            "_view_module": "@jupyter-widgets/controls",
            "_view_module_version": "1.5.0",
            "_view_name": "HTMLView",
            "description": "",
            "description_tooltip": null,
            "layout": "IPY_MODEL_8a1fd8b2743b464db53aa89d58b5a374",
            "placeholder": "​",
            "style": "IPY_MODEL_96aee6026da04a06b249a5b48968ec16",
            "value": "Downloading (…)olve/main/merges.txt: 100%"
          }
        },
        "e9cf0153ec524fc49fbd737ae7bccf2a": {
          "model_module": "@jupyter-widgets/controls",
          "model_name": "FloatProgressModel",
          "model_module_version": "1.5.0",
          "state": {
            "_dom_classes": [],
            "_model_module": "@jupyter-widgets/controls",
            "_model_module_version": "1.5.0",
            "_model_name": "FloatProgressModel",
            "_view_count": null,
            "_view_module": "@jupyter-widgets/controls",
            "_view_module_version": "1.5.0",
            "_view_name": "ProgressView",
            "bar_style": "success",
            "description": "",
            "description_tooltip": null,
            "layout": "IPY_MODEL_615c156a2d5f4ea192c4dd8574a025b9",
            "max": 456318,
            "min": 0,
            "orientation": "horizontal",
            "style": "IPY_MODEL_cb8d4cfac540405b8bf46c9329cf7889",
            "value": 456318
          }
        },
        "caea5f5919d94b81814d8bf63b393e2a": {
          "model_module": "@jupyter-widgets/controls",
          "model_name": "HTMLModel",
          "model_module_version": "1.5.0",
          "state": {
            "_dom_classes": [],
            "_model_module": "@jupyter-widgets/controls",
            "_model_module_version": "1.5.0",
            "_model_name": "HTMLModel",
            "_view_count": null,
            "_view_module": "@jupyter-widgets/controls",
            "_view_module_version": "1.5.0",
            "_view_name": "HTMLView",
            "description": "",
            "description_tooltip": null,
            "layout": "IPY_MODEL_578f9349335c49f88ad7c5db7e007754",
            "placeholder": "​",
            "style": "IPY_MODEL_0c738e0abf384f92aef060f269668824",
            "value": " 456k/456k [00:00&lt;00:00, 3.48MB/s]"
          }
        },
        "26b595a600494263bdc9eea3e08b1e65": {
          "model_module": "@jupyter-widgets/base",
          "model_name": "LayoutModel",
          "model_module_version": "1.2.0",
          "state": {
            "_model_module": "@jupyter-widgets/base",
            "_model_module_version": "1.2.0",
            "_model_name": "LayoutModel",
            "_view_count": null,
            "_view_module": "@jupyter-widgets/base",
            "_view_module_version": "1.2.0",
            "_view_name": "LayoutView",
            "align_content": null,
            "align_items": null,
            "align_self": null,
            "border": null,
            "bottom": null,
            "display": null,
            "flex": null,
            "flex_flow": null,
            "grid_area": null,
            "grid_auto_columns": null,
            "grid_auto_flow": null,
            "grid_auto_rows": null,
            "grid_column": null,
            "grid_gap": null,
            "grid_row": null,
            "grid_template_areas": null,
            "grid_template_columns": null,
            "grid_template_rows": null,
            "height": null,
            "justify_content": null,
            "justify_items": null,
            "left": null,
            "margin": null,
            "max_height": null,
            "max_width": null,
            "min_height": null,
            "min_width": null,
            "object_fit": null,
            "object_position": null,
            "order": null,
            "overflow": null,
            "overflow_x": null,
            "overflow_y": null,
            "padding": null,
            "right": null,
            "top": null,
            "visibility": null,
            "width": null
          }
        },
        "8a1fd8b2743b464db53aa89d58b5a374": {
          "model_module": "@jupyter-widgets/base",
          "model_name": "LayoutModel",
          "model_module_version": "1.2.0",
          "state": {
            "_model_module": "@jupyter-widgets/base",
            "_model_module_version": "1.2.0",
            "_model_name": "LayoutModel",
            "_view_count": null,
            "_view_module": "@jupyter-widgets/base",
            "_view_module_version": "1.2.0",
            "_view_name": "LayoutView",
            "align_content": null,
            "align_items": null,
            "align_self": null,
            "border": null,
            "bottom": null,
            "display": null,
            "flex": null,
            "flex_flow": null,
            "grid_area": null,
            "grid_auto_columns": null,
            "grid_auto_flow": null,
            "grid_auto_rows": null,
            "grid_column": null,
            "grid_gap": null,
            "grid_row": null,
            "grid_template_areas": null,
            "grid_template_columns": null,
            "grid_template_rows": null,
            "height": null,
            "justify_content": null,
            "justify_items": null,
            "left": null,
            "margin": null,
            "max_height": null,
            "max_width": null,
            "min_height": null,
            "min_width": null,
            "object_fit": null,
            "object_position": null,
            "order": null,
            "overflow": null,
            "overflow_x": null,
            "overflow_y": null,
            "padding": null,
            "right": null,
            "top": null,
            "visibility": null,
            "width": null
          }
        },
        "96aee6026da04a06b249a5b48968ec16": {
          "model_module": "@jupyter-widgets/controls",
          "model_name": "DescriptionStyleModel",
          "model_module_version": "1.5.0",
          "state": {
            "_model_module": "@jupyter-widgets/controls",
            "_model_module_version": "1.5.0",
            "_model_name": "DescriptionStyleModel",
            "_view_count": null,
            "_view_module": "@jupyter-widgets/base",
            "_view_module_version": "1.2.0",
            "_view_name": "StyleView",
            "description_width": ""
          }
        },
        "615c156a2d5f4ea192c4dd8574a025b9": {
          "model_module": "@jupyter-widgets/base",
          "model_name": "LayoutModel",
          "model_module_version": "1.2.0",
          "state": {
            "_model_module": "@jupyter-widgets/base",
            "_model_module_version": "1.2.0",
            "_model_name": "LayoutModel",
            "_view_count": null,
            "_view_module": "@jupyter-widgets/base",
            "_view_module_version": "1.2.0",
            "_view_name": "LayoutView",
            "align_content": null,
            "align_items": null,
            "align_self": null,
            "border": null,
            "bottom": null,
            "display": null,
            "flex": null,
            "flex_flow": null,
            "grid_area": null,
            "grid_auto_columns": null,
            "grid_auto_flow": null,
            "grid_auto_rows": null,
            "grid_column": null,
            "grid_gap": null,
            "grid_row": null,
            "grid_template_areas": null,
            "grid_template_columns": null,
            "grid_template_rows": null,
            "height": null,
            "justify_content": null,
            "justify_items": null,
            "left": null,
            "margin": null,
            "max_height": null,
            "max_width": null,
            "min_height": null,
            "min_width": null,
            "object_fit": null,
            "object_position": null,
            "order": null,
            "overflow": null,
            "overflow_x": null,
            "overflow_y": null,
            "padding": null,
            "right": null,
            "top": null,
            "visibility": null,
            "width": null
          }
        },
        "cb8d4cfac540405b8bf46c9329cf7889": {
          "model_module": "@jupyter-widgets/controls",
          "model_name": "ProgressStyleModel",
          "model_module_version": "1.5.0",
          "state": {
            "_model_module": "@jupyter-widgets/controls",
            "_model_module_version": "1.5.0",
            "_model_name": "ProgressStyleModel",
            "_view_count": null,
            "_view_module": "@jupyter-widgets/base",
            "_view_module_version": "1.2.0",
            "_view_name": "StyleView",
            "bar_color": null,
            "description_width": ""
          }
        },
        "578f9349335c49f88ad7c5db7e007754": {
          "model_module": "@jupyter-widgets/base",
          "model_name": "LayoutModel",
          "model_module_version": "1.2.0",
          "state": {
            "_model_module": "@jupyter-widgets/base",
            "_model_module_version": "1.2.0",
            "_model_name": "LayoutModel",
            "_view_count": null,
            "_view_module": "@jupyter-widgets/base",
            "_view_module_version": "1.2.0",
            "_view_name": "LayoutView",
            "align_content": null,
            "align_items": null,
            "align_self": null,
            "border": null,
            "bottom": null,
            "display": null,
            "flex": null,
            "flex_flow": null,
            "grid_area": null,
            "grid_auto_columns": null,
            "grid_auto_flow": null,
            "grid_auto_rows": null,
            "grid_column": null,
            "grid_gap": null,
            "grid_row": null,
            "grid_template_areas": null,
            "grid_template_columns": null,
            "grid_template_rows": null,
            "height": null,
            "justify_content": null,
            "justify_items": null,
            "left": null,
            "margin": null,
            "max_height": null,
            "max_width": null,
            "min_height": null,
            "min_width": null,
            "object_fit": null,
            "object_position": null,
            "order": null,
            "overflow": null,
            "overflow_x": null,
            "overflow_y": null,
            "padding": null,
            "right": null,
            "top": null,
            "visibility": null,
            "width": null
          }
        },
        "0c738e0abf384f92aef060f269668824": {
          "model_module": "@jupyter-widgets/controls",
          "model_name": "DescriptionStyleModel",
          "model_module_version": "1.5.0",
          "state": {
            "_model_module": "@jupyter-widgets/controls",
            "_model_module_version": "1.5.0",
            "_model_name": "DescriptionStyleModel",
            "_view_count": null,
            "_view_module": "@jupyter-widgets/base",
            "_view_module_version": "1.2.0",
            "_view_name": "StyleView",
            "description_width": ""
          }
        },
        "ba74d3f5ecce46dd849a2304b56cd7a8": {
          "model_module": "@jupyter-widgets/controls",
          "model_name": "HBoxModel",
          "model_module_version": "1.5.0",
          "state": {
            "_dom_classes": [],
            "_model_module": "@jupyter-widgets/controls",
            "_model_module_version": "1.5.0",
            "_model_name": "HBoxModel",
            "_view_count": null,
            "_view_module": "@jupyter-widgets/controls",
            "_view_module_version": "1.5.0",
            "_view_name": "HBoxView",
            "box_style": "",
            "children": [
              "IPY_MODEL_1e78a54d81bb413ca6d14abecdeda764",
              "IPY_MODEL_e0ffe1d1677847a3a64920c3394a0d64",
              "IPY_MODEL_f78a2a0f62b5459f9f802b2b0a5d9cd1"
            ],
            "layout": "IPY_MODEL_15d8ee607b91485fa8d2534472d1e6be"
          }
        },
        "1e78a54d81bb413ca6d14abecdeda764": {
          "model_module": "@jupyter-widgets/controls",
          "model_name": "HTMLModel",
          "model_module_version": "1.5.0",
          "state": {
            "_dom_classes": [],
            "_model_module": "@jupyter-widgets/controls",
            "_model_module_version": "1.5.0",
            "_model_name": "HTMLModel",
            "_view_count": null,
            "_view_module": "@jupyter-widgets/controls",
            "_view_module_version": "1.5.0",
            "_view_name": "HTMLView",
            "description": "",
            "description_tooltip": null,
            "layout": "IPY_MODEL_a37c2e0100a1499680c4489418f78bc3",
            "placeholder": "​",
            "style": "IPY_MODEL_2316012f959e481aacd6a868657fd049",
            "value": "Downloading (…)/main/tokenizer.json: 100%"
          }
        },
        "e0ffe1d1677847a3a64920c3394a0d64": {
          "model_module": "@jupyter-widgets/controls",
          "model_name": "FloatProgressModel",
          "model_module_version": "1.5.0",
          "state": {
            "_dom_classes": [],
            "_model_module": "@jupyter-widgets/controls",
            "_model_module_version": "1.5.0",
            "_model_name": "FloatProgressModel",
            "_view_count": null,
            "_view_module": "@jupyter-widgets/controls",
            "_view_module_version": "1.5.0",
            "_view_name": "ProgressView",
            "bar_style": "success",
            "description": "",
            "description_tooltip": null,
            "layout": "IPY_MODEL_8655d61f7e534fff8ac864cfc70cf11a",
            "max": 1355256,
            "min": 0,
            "orientation": "horizontal",
            "style": "IPY_MODEL_746ff8b8c2b44eed996a05e425b628d2",
            "value": 1355256
          }
        },
        "f78a2a0f62b5459f9f802b2b0a5d9cd1": {
          "model_module": "@jupyter-widgets/controls",
          "model_name": "HTMLModel",
          "model_module_version": "1.5.0",
          "state": {
            "_dom_classes": [],
            "_model_module": "@jupyter-widgets/controls",
            "_model_module_version": "1.5.0",
            "_model_name": "HTMLModel",
            "_view_count": null,
            "_view_module": "@jupyter-widgets/controls",
            "_view_module_version": "1.5.0",
            "_view_name": "HTMLView",
            "description": "",
            "description_tooltip": null,
            "layout": "IPY_MODEL_8e483d4f7192409690b9f3e47060fcba",
            "placeholder": "​",
            "style": "IPY_MODEL_8f9bc1b3681f4d70b9749c6b88ff4f32",
            "value": " 1.36M/1.36M [00:00&lt;00:00, 6.87MB/s]"
          }
        },
        "15d8ee607b91485fa8d2534472d1e6be": {
          "model_module": "@jupyter-widgets/base",
          "model_name": "LayoutModel",
          "model_module_version": "1.2.0",
          "state": {
            "_model_module": "@jupyter-widgets/base",
            "_model_module_version": "1.2.0",
            "_model_name": "LayoutModel",
            "_view_count": null,
            "_view_module": "@jupyter-widgets/base",
            "_view_module_version": "1.2.0",
            "_view_name": "LayoutView",
            "align_content": null,
            "align_items": null,
            "align_self": null,
            "border": null,
            "bottom": null,
            "display": null,
            "flex": null,
            "flex_flow": null,
            "grid_area": null,
            "grid_auto_columns": null,
            "grid_auto_flow": null,
            "grid_auto_rows": null,
            "grid_column": null,
            "grid_gap": null,
            "grid_row": null,
            "grid_template_areas": null,
            "grid_template_columns": null,
            "grid_template_rows": null,
            "height": null,
            "justify_content": null,
            "justify_items": null,
            "left": null,
            "margin": null,
            "max_height": null,
            "max_width": null,
            "min_height": null,
            "min_width": null,
            "object_fit": null,
            "object_position": null,
            "order": null,
            "overflow": null,
            "overflow_x": null,
            "overflow_y": null,
            "padding": null,
            "right": null,
            "top": null,
            "visibility": null,
            "width": null
          }
        },
        "a37c2e0100a1499680c4489418f78bc3": {
          "model_module": "@jupyter-widgets/base",
          "model_name": "LayoutModel",
          "model_module_version": "1.2.0",
          "state": {
            "_model_module": "@jupyter-widgets/base",
            "_model_module_version": "1.2.0",
            "_model_name": "LayoutModel",
            "_view_count": null,
            "_view_module": "@jupyter-widgets/base",
            "_view_module_version": "1.2.0",
            "_view_name": "LayoutView",
            "align_content": null,
            "align_items": null,
            "align_self": null,
            "border": null,
            "bottom": null,
            "display": null,
            "flex": null,
            "flex_flow": null,
            "grid_area": null,
            "grid_auto_columns": null,
            "grid_auto_flow": null,
            "grid_auto_rows": null,
            "grid_column": null,
            "grid_gap": null,
            "grid_row": null,
            "grid_template_areas": null,
            "grid_template_columns": null,
            "grid_template_rows": null,
            "height": null,
            "justify_content": null,
            "justify_items": null,
            "left": null,
            "margin": null,
            "max_height": null,
            "max_width": null,
            "min_height": null,
            "min_width": null,
            "object_fit": null,
            "object_position": null,
            "order": null,
            "overflow": null,
            "overflow_x": null,
            "overflow_y": null,
            "padding": null,
            "right": null,
            "top": null,
            "visibility": null,
            "width": null
          }
        },
        "2316012f959e481aacd6a868657fd049": {
          "model_module": "@jupyter-widgets/controls",
          "model_name": "DescriptionStyleModel",
          "model_module_version": "1.5.0",
          "state": {
            "_model_module": "@jupyter-widgets/controls",
            "_model_module_version": "1.5.0",
            "_model_name": "DescriptionStyleModel",
            "_view_count": null,
            "_view_module": "@jupyter-widgets/base",
            "_view_module_version": "1.2.0",
            "_view_name": "StyleView",
            "description_width": ""
          }
        },
        "8655d61f7e534fff8ac864cfc70cf11a": {
          "model_module": "@jupyter-widgets/base",
          "model_name": "LayoutModel",
          "model_module_version": "1.2.0",
          "state": {
            "_model_module": "@jupyter-widgets/base",
            "_model_module_version": "1.2.0",
            "_model_name": "LayoutModel",
            "_view_count": null,
            "_view_module": "@jupyter-widgets/base",
            "_view_module_version": "1.2.0",
            "_view_name": "LayoutView",
            "align_content": null,
            "align_items": null,
            "align_self": null,
            "border": null,
            "bottom": null,
            "display": null,
            "flex": null,
            "flex_flow": null,
            "grid_area": null,
            "grid_auto_columns": null,
            "grid_auto_flow": null,
            "grid_auto_rows": null,
            "grid_column": null,
            "grid_gap": null,
            "grid_row": null,
            "grid_template_areas": null,
            "grid_template_columns": null,
            "grid_template_rows": null,
            "height": null,
            "justify_content": null,
            "justify_items": null,
            "left": null,
            "margin": null,
            "max_height": null,
            "max_width": null,
            "min_height": null,
            "min_width": null,
            "object_fit": null,
            "object_position": null,
            "order": null,
            "overflow": null,
            "overflow_x": null,
            "overflow_y": null,
            "padding": null,
            "right": null,
            "top": null,
            "visibility": null,
            "width": null
          }
        },
        "746ff8b8c2b44eed996a05e425b628d2": {
          "model_module": "@jupyter-widgets/controls",
          "model_name": "ProgressStyleModel",
          "model_module_version": "1.5.0",
          "state": {
            "_model_module": "@jupyter-widgets/controls",
            "_model_module_version": "1.5.0",
            "_model_name": "ProgressStyleModel",
            "_view_count": null,
            "_view_module": "@jupyter-widgets/base",
            "_view_module_version": "1.2.0",
            "_view_name": "StyleView",
            "bar_color": null,
            "description_width": ""
          }
        },
        "8e483d4f7192409690b9f3e47060fcba": {
          "model_module": "@jupyter-widgets/base",
          "model_name": "LayoutModel",
          "model_module_version": "1.2.0",
          "state": {
            "_model_module": "@jupyter-widgets/base",
            "_model_module_version": "1.2.0",
            "_model_name": "LayoutModel",
            "_view_count": null,
            "_view_module": "@jupyter-widgets/base",
            "_view_module_version": "1.2.0",
            "_view_name": "LayoutView",
            "align_content": null,
            "align_items": null,
            "align_self": null,
            "border": null,
            "bottom": null,
            "display": null,
            "flex": null,
            "flex_flow": null,
            "grid_area": null,
            "grid_auto_columns": null,
            "grid_auto_flow": null,
            "grid_auto_rows": null,
            "grid_column": null,
            "grid_gap": null,
            "grid_row": null,
            "grid_template_areas": null,
            "grid_template_columns": null,
            "grid_template_rows": null,
            "height": null,
            "justify_content": null,
            "justify_items": null,
            "left": null,
            "margin": null,
            "max_height": null,
            "max_width": null,
            "min_height": null,
            "min_width": null,
            "object_fit": null,
            "object_position": null,
            "order": null,
            "overflow": null,
            "overflow_x": null,
            "overflow_y": null,
            "padding": null,
            "right": null,
            "top": null,
            "visibility": null,
            "width": null
          }
        },
        "8f9bc1b3681f4d70b9749c6b88ff4f32": {
          "model_module": "@jupyter-widgets/controls",
          "model_name": "DescriptionStyleModel",
          "model_module_version": "1.5.0",
          "state": {
            "_model_module": "@jupyter-widgets/controls",
            "_model_module_version": "1.5.0",
            "_model_name": "DescriptionStyleModel",
            "_view_count": null,
            "_view_module": "@jupyter-widgets/base",
            "_view_module_version": "1.2.0",
            "_view_name": "StyleView",
            "description_width": ""
          }
        }
      }
    }
  },
  "cells": [
    {
      "cell_type": "markdown",
      "source": [
        "# Tutorial for training your own GPT model on any dataset you like!"
      ],
      "metadata": {
        "id": "e5K8m8u_2xSp"
      }
    },
    {
      "cell_type": "markdown",
      "source": [
        "# First things first - Data\n",
        "The data we will use for this tutorial will be Elon Musk Tweets, which contains around 40k lines of tweets."
      ],
      "metadata": {
        "id": "D2ghXqVWnjZj"
      }
    },
    {
      "cell_type": "code",
      "execution_count": null,
      "metadata": {
        "colab": {
          "base_uri": "https://localhost:8080/"
        },
        "id": "ifv0zwtqnJgy",
        "outputId": "9937b78f-6948-4687-e00a-9f7cd75bd87d"
      },
      "outputs": [
        {
          "output_type": "stream",
          "name": "stdout",
          "text": [
            "Mounted at /content/drive\n"
          ]
        }
      ],
      "source": [
        "from google.colab import drive\n",
        "drive.mount(\"/content/drive\")"
      ]
    },
    {
      "cell_type": "code",
      "source": [
        "with open('/content/drive/MyDrive/elon_tweets_clean.txt', 'r', encoding='utf-8') as f:\n",
        "    text = f.read()"
      ],
      "metadata": {
        "id": "SH1xStDRscPt"
      },
      "execution_count": null,
      "outputs": []
    },
    {
      "cell_type": "code",
      "source": [
        "print(\"length of dataset in characters: \", len(text))"
      ],
      "metadata": {
        "colab": {
          "base_uri": "https://localhost:8080/"
        },
        "id": "0Skp9C3QskJC",
        "outputId": "f16d8b44-8bcd-4cae-b009-184471b11763"
      },
      "execution_count": null,
      "outputs": [
        {
          "output_type": "stream",
          "name": "stdout",
          "text": [
            "length of dataset in characters:  3855104\n"
          ]
        }
      ]
    },
    {
      "cell_type": "code",
      "source": [
        "# let's look at the first 1000 characters\n",
        "print(text[:1000])"
      ],
      "metadata": {
        "colab": {
          "base_uri": "https://localhost:8080/"
        },
        "id": "R_ASICAcspfl",
        "outputId": "94b4d975-d63c-4236-af7e-274f8ff52a01"
      },
      "execution_count": null,
      "outputs": [
        {
          "output_type": "stream",
          "name": "stdout",
          "text": [
            " if he doesn't keep his word it makes him a democrat. he is not going to go on a soul searching endless vacation like jack. whomever he gets as ceo, will run it as elon has established. division is caused enough by fake gopers.\n",
            " if they speak truth and present facts they have no need to worry about being banned \n",
            " iterators. i have one in my kitchen sink. all it does is regurgitate chum and garbage.\n",
            " he's in the cnn recording studio with a sotu background trying to look convincing.\n",
            " soyuz ms-22 capsule is leaking coolant \n",
            " these guys ain't innocent. \n",
            " sense when do media platforms run our country and our rights? democrats are nothing more than people that want to control you. yeah fuck that.\n",
            " someone needs to them that!!!!!!\n",
            " join - a project created to support disadvantaged kids, celebrate the holiday in crypto space and to profit all investors prepare yourself for being part of the greatest and most rewarding xmas token! \n",
            " elon i believe we can change the world for the better i’m tell\n"
          ]
        }
      ]
    },
    {
      "cell_type": "code",
      "source": [
        "# here are all the unique characters that occur in this text\n",
        "chars = sorted(list(set(text)))\n",
        "vocab_size = len(chars)\n",
        "print(''.join(chars))\n",
        "print(vocab_size)"
      ],
      "metadata": {
        "colab": {
          "base_uri": "https://localhost:8080/"
        },
        "id": "981lmgv3sxwl",
        "outputId": "4b61e411-da2e-483c-ffea-cb0383e036b4"
      },
      "execution_count": null,
      "outputs": [
        {
          "output_type": "stream",
          "name": "stdout",
          "text": [
            "\n",
            " !#$%'()*+,-./0123456789:;<=>?@[\\]^_`abcdefghijklmnopqrstuvwxyz{|}~¡£§©«®¯°´·¹»¿×àáâäæéêëìíïðñòóöúûüāăąğīįıōśəɡʖˈˌ˶̇͜͡πвопртяёђџґӿ،اترسهويِپښ۱۴۸۹धनफमरविॉो्૮ขงจชณตทนบผยลวสหอัาืุโ่༝აḿ​‌‑–—―‘’“”„•…‼⁉€₹⃣ℎ™↑→↓√≠⋆⌨⏬⏰⏱⏲⏳\n",
            "214\n"
          ]
        }
      ]
    },
    {
      "cell_type": "markdown",
      "source": [
        "Now let's tokenize our data. Tokenizing is the process of mapping plain text to integers. These integers represent a vocabulary that our model will understand"
      ],
      "metadata": {
        "id": "iEsROtWQtA3O"
      }
    },
    {
      "cell_type": "code",
      "source": [
        "# create a mapping from characters to integers\n",
        "stoi = { ch:i for i,ch in enumerate(chars) }\n",
        "itos = { i:ch for i,ch in enumerate(chars) }\n",
        "encode = lambda s: [stoi[c] for c in s] # encoder: take a string, output a list of integers\n",
        "decode = lambda l: ''.join([itos[i] for i in l]) # decoder: take a list of integers, output a string\n",
        "\n",
        "print(encode(\"hii there\"))\n",
        "print(decode(encode(\"hii there\")))"
      ],
      "metadata": {
        "colab": {
          "base_uri": "https://localhost:8080/"
        },
        "id": "N_eATmi3tOFA",
        "outputId": "268c817a-1ec3-4138-b606-6a86e02eb29c"
      },
      "execution_count": null,
      "outputs": [
        {
          "output_type": "stream",
          "name": "stdout",
          "text": [
            "[45, 46, 46, 1, 57, 45, 42, 55, 42]\n",
            "hii there\n"
          ]
        }
      ]
    },
    {
      "cell_type": "markdown",
      "source": [
        "We can wrap this in a tokenizer class"
      ],
      "metadata": {
        "id": "eHE_Aa5pv9DW"
      }
    },
    {
      "cell_type": "code",
      "source": [
        "# Let's create a tokenizer class\n",
        "class MyTokenizer():\n",
        "    def __init__(self, text):\n",
        "        self.text = text\n",
        "        self.chars = sorted(list(set(text)))\n",
        "        self.vocab_size = len(self.chars)\n",
        "        self.stoi = { ch:i for i,ch in enumerate(self.chars) }\n",
        "        self.itos = { i:ch for i,ch in enumerate(self.chars) }\n",
        "\n",
        "    def encode(self, s):\n",
        "        return [self.stoi[c] for c in s]\n",
        "\n",
        "    def decode(self, l):\n",
        "        return ''.join([self.itos[i] for i in l])"
      ],
      "metadata": {
        "id": "tsUSDv1ZtP0T"
      },
      "execution_count": null,
      "outputs": []
    },
    {
      "cell_type": "code",
      "source": [
        "tokenizer = MyTokenizer(text)\n",
        "print(tokenizer.encode(\"hii there\"))\n",
        "print(tokenizer.decode(tokenizer.encode(\"hii there\")))\n"
      ],
      "metadata": {
        "colab": {
          "base_uri": "https://localhost:8080/"
        },
        "id": "q33S9Zi9vqRR",
        "outputId": "3443ebc9-a88e-43af-8feb-b76859001e20"
      },
      "execution_count": null,
      "outputs": [
        {
          "output_type": "stream",
          "name": "stdout",
          "text": [
            "[45, 46, 46, 1, 57, 45, 42, 55, 42]\n",
            "hii there\n"
          ]
        }
      ]
    },
    {
      "cell_type": "code",
      "source": [
        "# Tokenize the entire dataset\n",
        "import torch\n",
        "data = torch.tensor(tokenizer.encode(text))\n",
        "print(len(data))"
      ],
      "metadata": {
        "colab": {
          "base_uri": "https://localhost:8080/"
        },
        "id": "1Yok5H-B1Z4v",
        "outputId": "7e196c81-0da7-4642-c281-cf51dc07bbce"
      },
      "execution_count": null,
      "outputs": [
        {
          "output_type": "stream",
          "name": "stdout",
          "text": [
            "3855104\n"
          ]
        }
      ]
    },
    {
      "cell_type": "code",
      "source": [
        "!pip install transformers"
      ],
      "metadata": {
        "colab": {
          "base_uri": "https://localhost:8080/"
        },
        "id": "1VoheYgvwKjJ",
        "outputId": "e0290c5c-98ef-4a31-8788-709b32579e0e"
      },
      "execution_count": null,
      "outputs": [
        {
          "output_type": "stream",
          "name": "stdout",
          "text": [
            "Collecting transformers\n",
            "  Downloading transformers-4.33.2-py3-none-any.whl (7.6 MB)\n",
            "\u001b[2K     \u001b[90m━━━━━━━━━━━━━━━━━━━━━━━━━━━━━━━━━━━━━━━━\u001b[0m \u001b[32m7.6/7.6 MB\u001b[0m \u001b[31m63.1 MB/s\u001b[0m eta \u001b[36m0:00:00\u001b[0m\n",
            "\u001b[?25hRequirement already satisfied: filelock in /usr/local/lib/python3.10/dist-packages (from transformers) (3.12.2)\n",
            "Collecting huggingface-hub<1.0,>=0.15.1 (from transformers)\n",
            "  Downloading huggingface_hub-0.17.2-py3-none-any.whl (294 kB)\n",
            "\u001b[2K     \u001b[90m━━━━━━━━━━━━━━━━━━━━━━━━━━━━━━━━━━━━━━\u001b[0m \u001b[32m294.9/294.9 kB\u001b[0m \u001b[31m31.0 MB/s\u001b[0m eta \u001b[36m0:00:00\u001b[0m\n",
            "\u001b[?25hRequirement already satisfied: numpy>=1.17 in /usr/local/lib/python3.10/dist-packages (from transformers) (1.23.5)\n",
            "Requirement already satisfied: packaging>=20.0 in /usr/local/lib/python3.10/dist-packages (from transformers) (23.1)\n",
            "Requirement already satisfied: pyyaml>=5.1 in /usr/local/lib/python3.10/dist-packages (from transformers) (6.0.1)\n",
            "Requirement already satisfied: regex!=2019.12.17 in /usr/local/lib/python3.10/dist-packages (from transformers) (2023.6.3)\n",
            "Requirement already satisfied: requests in /usr/local/lib/python3.10/dist-packages (from transformers) (2.31.0)\n",
            "Collecting tokenizers!=0.11.3,<0.14,>=0.11.1 (from transformers)\n",
            "  Downloading tokenizers-0.13.3-cp310-cp310-manylinux_2_17_x86_64.manylinux2014_x86_64.whl (7.8 MB)\n",
            "\u001b[2K     \u001b[90m━━━━━━━━━━━━━━━━━━━━━━━━━━━━━━━━━━━━━━━━\u001b[0m \u001b[32m7.8/7.8 MB\u001b[0m \u001b[31m115.2 MB/s\u001b[0m eta \u001b[36m0:00:00\u001b[0m\n",
            "\u001b[?25hCollecting safetensors>=0.3.1 (from transformers)\n",
            "  Downloading safetensors-0.3.3-cp310-cp310-manylinux_2_17_x86_64.manylinux2014_x86_64.whl (1.3 MB)\n",
            "\u001b[2K     \u001b[90m━━━━━━━━━━━━━━━━━━━━━━━━━━━━━━━━━━━━━━━━\u001b[0m \u001b[32m1.3/1.3 MB\u001b[0m \u001b[31m83.7 MB/s\u001b[0m eta \u001b[36m0:00:00\u001b[0m\n",
            "\u001b[?25hRequirement already satisfied: tqdm>=4.27 in /usr/local/lib/python3.10/dist-packages (from transformers) (4.66.1)\n",
            "Requirement already satisfied: fsspec in /usr/local/lib/python3.10/dist-packages (from huggingface-hub<1.0,>=0.15.1->transformers) (2023.6.0)\n",
            "Requirement already satisfied: typing-extensions>=3.7.4.3 in /usr/local/lib/python3.10/dist-packages (from huggingface-hub<1.0,>=0.15.1->transformers) (4.5.0)\n",
            "Requirement already satisfied: charset-normalizer<4,>=2 in /usr/local/lib/python3.10/dist-packages (from requests->transformers) (3.2.0)\n",
            "Requirement already satisfied: idna<4,>=2.5 in /usr/local/lib/python3.10/dist-packages (from requests->transformers) (3.4)\n",
            "Requirement already satisfied: urllib3<3,>=1.21.1 in /usr/local/lib/python3.10/dist-packages (from requests->transformers) (2.0.4)\n",
            "Requirement already satisfied: certifi>=2017.4.17 in /usr/local/lib/python3.10/dist-packages (from requests->transformers) (2023.7.22)\n",
            "Installing collected packages: tokenizers, safetensors, huggingface-hub, transformers\n",
            "Successfully installed huggingface-hub-0.17.2 safetensors-0.3.3 tokenizers-0.13.3 transformers-4.33.2\n"
          ]
        }
      ]
    },
    {
      "cell_type": "code",
      "source": [
        "# Here are some popular tokenizers in huggingface\n",
        "from transformers import AutoTokenizer\n",
        "tokenizer = AutoTokenizer.from_pretrained(\"gpt2\")\n",
        "print(tokenizer.encode(\"hii there\"))\n",
        "print(tokenizer.decode(tokenizer.encode(\"hii there\")))\n"
      ],
      "metadata": {
        "colab": {
          "base_uri": "https://localhost:8080/",
          "height": 181,
          "referenced_widgets": [
            "c32c55e3c8f1494895dbdd6d283034d3",
            "eaf236153b9e44e59b66bf5433c310c4",
            "b9a2bc39c06d47cdac39d2b958b32d06",
            "dd8052a38ac643f8af9b3375c5be3c70",
            "2b5a5532349443d6bf96da35200509e8",
            "d3f27bcee887491cbdf9b3d15158d865",
            "a3e6b60073434aac955dea05a4263f6c",
            "021f5d5812524136a8bc8537a1e60e44",
            "36984903fb00456693cf3ee4bc8c46a8",
            "0d95281a131841fe8e517987044f993b",
            "b7c21a58014b450780258bb774ad35e5",
            "250871207c6c472fb1ebfae6351d0fe5",
            "ce461edd301a4f9f94bb87fd77f6d602",
            "9f4e8619916c42c995754a1dfec79c78",
            "73cdfccf4e314797b73bffbc01087950",
            "a7ff2cdc18284490a6a13ba8480f9b3e",
            "c0e5a24cc04c4c9ea38c9c94fa620860",
            "0250b7d7e8b9413282b39a0d952c05a0",
            "015a0ff61b514aa19edb653f11a71622",
            "6b7865f1fe3c4ed7a003031c90623e8a",
            "ed96d06ec05b47d8afad334de07c56c2",
            "c7ce5a0993ed4feea296858d918e60f7",
            "ab7d87d872af4c559d8118b6131d64bb",
            "e1249216037b48729e27f721ea876e09",
            "e9cf0153ec524fc49fbd737ae7bccf2a",
            "caea5f5919d94b81814d8bf63b393e2a",
            "26b595a600494263bdc9eea3e08b1e65",
            "8a1fd8b2743b464db53aa89d58b5a374",
            "96aee6026da04a06b249a5b48968ec16",
            "615c156a2d5f4ea192c4dd8574a025b9",
            "cb8d4cfac540405b8bf46c9329cf7889",
            "578f9349335c49f88ad7c5db7e007754",
            "0c738e0abf384f92aef060f269668824",
            "ba74d3f5ecce46dd849a2304b56cd7a8",
            "1e78a54d81bb413ca6d14abecdeda764",
            "e0ffe1d1677847a3a64920c3394a0d64",
            "f78a2a0f62b5459f9f802b2b0a5d9cd1",
            "15d8ee607b91485fa8d2534472d1e6be",
            "a37c2e0100a1499680c4489418f78bc3",
            "2316012f959e481aacd6a868657fd049",
            "8655d61f7e534fff8ac864cfc70cf11a",
            "746ff8b8c2b44eed996a05e425b628d2",
            "8e483d4f7192409690b9f3e47060fcba",
            "8f9bc1b3681f4d70b9749c6b88ff4f32"
          ]
        },
        "id": "lwGNyyCgv0A6",
        "outputId": "3e7345d9-d466-4486-8b27-1ee84625ee6e"
      },
      "execution_count": null,
      "outputs": [
        {
          "output_type": "display_data",
          "data": {
            "text/plain": [
              "Downloading (…)lve/main/config.json:   0%|          | 0.00/665 [00:00<?, ?B/s]"
            ],
            "application/vnd.jupyter.widget-view+json": {
              "version_major": 2,
              "version_minor": 0,
              "model_id": "c32c55e3c8f1494895dbdd6d283034d3"
            }
          },
          "metadata": {}
        },
        {
          "output_type": "display_data",
          "data": {
            "text/plain": [
              "Downloading (…)olve/main/vocab.json:   0%|          | 0.00/1.04M [00:00<?, ?B/s]"
            ],
            "application/vnd.jupyter.widget-view+json": {
              "version_major": 2,
              "version_minor": 0,
              "model_id": "250871207c6c472fb1ebfae6351d0fe5"
            }
          },
          "metadata": {}
        },
        {
          "output_type": "display_data",
          "data": {
            "text/plain": [
              "Downloading (…)olve/main/merges.txt:   0%|          | 0.00/456k [00:00<?, ?B/s]"
            ],
            "application/vnd.jupyter.widget-view+json": {
              "version_major": 2,
              "version_minor": 0,
              "model_id": "ab7d87d872af4c559d8118b6131d64bb"
            }
          },
          "metadata": {}
        },
        {
          "output_type": "display_data",
          "data": {
            "text/plain": [
              "Downloading (…)/main/tokenizer.json:   0%|          | 0.00/1.36M [00:00<?, ?B/s]"
            ],
            "application/vnd.jupyter.widget-view+json": {
              "version_major": 2,
              "version_minor": 0,
              "model_id": "ba74d3f5ecce46dd849a2304b56cd7a8"
            }
          },
          "metadata": {}
        },
        {
          "output_type": "stream",
          "name": "stdout",
          "text": [
            "[71, 4178, 612]\n",
            "hii there\n"
          ]
        }
      ]
    },
    {
      "cell_type": "markdown",
      "source": [
        "Now let's build our training data and validation data"
      ],
      "metadata": {
        "id": "AlM7SNiIyJ5j"
      }
    },
    {
      "cell_type": "code",
      "source": [
        "def split_data():\n",
        "    n = int(0.9*len(text))\n",
        "    return data[:n], data[n:]\n",
        "\n",
        "train_data, val_data = split_data()\n",
        "\n",
        "print(len(train_data), len(val_data))\n"
      ],
      "metadata": {
        "colab": {
          "base_uri": "https://localhost:8080/"
        },
        "id": "6PaQ38NdwPwM",
        "outputId": "f948e44f-a9da-4026-f56f-2425f16c691c"
      },
      "execution_count": null,
      "outputs": [
        {
          "output_type": "stream",
          "name": "stdout",
          "text": [
            "3469593 385511\n"
          ]
        }
      ]
    },
    {
      "cell_type": "markdown",
      "source": [
        "Now we define how much context the model shall see. We use a variable `block_size` to do this. In other words, this is the input sequence length `T`."
      ],
      "metadata": {
        "id": "UTujoSaq0rmd"
      }
    },
    {
      "cell_type": "code",
      "source": [
        "block_size = 16"
      ],
      "metadata": {
        "id": "ZL4qV7Yz1NTh"
      },
      "execution_count": null,
      "outputs": []
    },
    {
      "cell_type": "code",
      "source": [
        "x = train_data[0: block_size]\n",
        "y = train_data[block_size: block_size + 1]\n",
        "print(x)\n",
        "print(y)\n",
        "\n",
        "print(tokenizer.decode(x.tolist()))\n",
        "print(tokenizer.decode(y.tolist()))"
      ],
      "metadata": {
        "colab": {
          "base_uri": "https://localhost:8080/"
        },
        "id": "Lbz0KENK0lQg",
        "outputId": "07c54a33-b15b-443d-f7d1-eb898e099207"
      },
      "execution_count": null,
      "outputs": [
        {
          "output_type": "stream",
          "name": "stdout",
          "text": [
            "tensor([ 1, 46, 43,  1, 45, 42,  1, 41, 52, 42, 56, 51,  6, 57,  1, 48])\n",
            "tensor([42])\n",
            " if he doesn't k\n",
            "e\n"
          ]
        }
      ]
    },
    {
      "cell_type": "markdown",
      "source": [
        "Remember normally we train models with minibatches, so here let's write a function to get minibatched data."
      ],
      "metadata": {
        "id": "t0RBUmh014pB"
      }
    },
    {
      "cell_type": "code",
      "source": [
        "batch_size = 4\n",
        "def get_batch(split):\n",
        "    data = train_data if split == 'train' else val_data\n",
        "    ix = torch.randint(len(data) - block_size, (batch_size,))\n",
        "    x = torch.stack([data[i:i+block_size] for i in ix])\n",
        "    y = torch.stack([data[i+1:i+block_size+1] for i in ix])\n",
        "    return x, y\n",
        "\n",
        "xb, yb = get_batch('train')\n",
        "print(\"context:\")\n",
        "print(xb.shape)\n",
        "print(xb)\n",
        "print(\"targets:\")\n",
        "print(yb.shape)\n",
        "print(yb)\n",
        "\n",
        "# xb is our input to transformer\n",
        "# yb is the next token to predict"
      ],
      "metadata": {
        "colab": {
          "base_uri": "https://localhost:8080/"
        },
        "id": "PFhHdY8i1La1",
        "outputId": "08f16086-4be4-451c-d835-ee9001ec7fb3"
      },
      "execution_count": null,
      "outputs": [
        {
          "output_type": "stream",
          "name": "stdout",
          "text": [
            "context:\n",
            "torch.Size([4, 16])\n",
            "tensor([[ 38,  41,  13,   0,   1,  62,  42,  56,  11,   1,  52,  60,  51,   1,\n",
            "          50,  42],\n",
            "        [ 42,  60,   1,  41,  42,  53,  49,  52,  55,  38,  39,  49,  42,   1,\n",
            "          53,  38],\n",
            "        [ 52,  61,  46,  51,  44,  13,   1,  46,   1,  41,  52,  51, 189,  57,\n",
            "           1,  57],\n",
            "        [ 38,  57, 189,  56,   1,  60,  45,  38,  57,   1,  57,  45,  42,  62,\n",
            "           1,  56]])\n",
            "targets:\n",
            "torch.Size([4, 16])\n",
            "tensor([[ 41,  13,   0,   1,  62,  42,  56,  11,   1,  52,  60,  51,   1,  50,\n",
            "          42,  55],\n",
            "        [ 60,   1,  41,  42,  53,  49,  52,  55,  38,  39,  49,  42,   1,  53,\n",
            "          38,  49],\n",
            "        [ 61,  46,  51,  44,  13,   1,  46,   1,  41,  52,  51, 189,  57,   1,\n",
            "          57,  45],\n",
            "        [ 57, 189,  56,   1,  60,  45,  38,  57,   1,  57,  45,  42,  62,   1,\n",
            "          56,  38]])\n"
          ]
        }
      ]
    },
    {
      "cell_type": "code",
      "source": [],
      "metadata": {
        "id": "JEOrzOFU2V3E"
      },
      "execution_count": null,
      "outputs": []
    },
    {
      "cell_type": "markdown",
      "source": [
        "# Next step: let's build our transformer model"
      ],
      "metadata": {
        "id": "YJClmMDF2463"
      }
    },
    {
      "cell_type": "markdown",
      "source": [
        "Let's consider the \\alpha example in our lecture.![Screenshot 2023-09-25 at 3.22.59 AM.png](data:image/png;base64,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)\n",
        "\n",
        "These α's should be a matrix of shape (T, T), where T is the sequence length.\n",
        "\n",
        "Let's compute some attention!"
      ],
      "metadata": {
        "id": "OUtRcb1e3Ff2"
      }
    },
    {
      "cell_type": "code",
      "source": [
        "# Let's consider this simple example:\n",
        "# We have batch size B=4\n",
        "# Sequence length (or context length) T=8\n",
        "# Token feature dimension C=3\n",
        "B, T, C = 4, 8, 3\n",
        "\n",
        "x = torch.randn(B, T, C)\n",
        "\n",
        "print(\"x:\")\n",
        "print(x.shape)\n",
        "print(x)"
      ],
      "metadata": {
        "colab": {
          "base_uri": "https://localhost:8080/"
        },
        "id": "T3lVW-oQ28bF",
        "outputId": "55e9b5f2-058c-48f6-f868-dbd78bf5472a"
      },
      "execution_count": null,
      "outputs": [
        {
          "output_type": "stream",
          "name": "stdout",
          "text": [
            "x:\n",
            "torch.Size([4, 8, 3])\n",
            "tensor([[[ 1.6095,  1.4372, -1.0256],\n",
            "         [ 0.6464, -1.6309,  0.1389],\n",
            "         [-0.3351,  0.1577, -0.4156],\n",
            "         [ 0.4892,  0.0540, -0.4915],\n",
            "         [ 0.0027,  1.6455,  0.5552],\n",
            "         [ 0.6168, -0.0707,  0.7899],\n",
            "         [ 1.2111, -0.7712, -0.9354],\n",
            "         [ 0.6290,  0.5221, -1.0253]],\n",
            "\n",
            "        [[-0.0364,  0.4102, -1.4345],\n",
            "         [ 1.3915,  1.0269,  0.3837],\n",
            "         [ 0.4484, -0.0060,  0.9348],\n",
            "         [ 0.9220, -0.6403, -1.0447],\n",
            "         [-0.8930, -0.6570, -0.7711],\n",
            "         [-0.1362, -0.7928, -1.3390],\n",
            "         [-1.4030,  0.5514, -0.0648],\n",
            "         [-0.7449,  2.4740, -0.0142]],\n",
            "\n",
            "        [[-0.3535,  0.8668,  0.4701],\n",
            "         [-0.0628, -0.0762, -1.6347],\n",
            "         [ 1.6837, -1.5317,  0.9779],\n",
            "         [ 0.6314,  0.2687,  0.8580],\n",
            "         [ 0.9968,  0.5535,  0.1065],\n",
            "         [-0.5721, -0.9958, -2.3892],\n",
            "         [-0.0369,  0.2691, -0.4212],\n",
            "         [ 0.8428, -1.2544, -0.5049]],\n",
            "\n",
            "        [[-0.3229,  0.6842, -0.6908],\n",
            "         [ 0.2473,  1.1954, -0.3678],\n",
            "         [-0.5026,  0.6731, -1.3761],\n",
            "         [-1.3300, -0.5328,  0.2550],\n",
            "         [ 2.4430, -0.2702, -0.5130],\n",
            "         [-0.0911,  0.3890, -0.2353],\n",
            "         [ 0.3843, -1.7493,  0.7354],\n",
            "         [ 1.1259, -0.4198, -0.1350]]])\n"
          ]
        }
      ]
    },
    {
      "cell_type": "markdown",
      "source": [
        "The simplest attention would be to compute an average"
      ],
      "metadata": {
        "id": "jbeliGnW8SzZ"
      }
    },
    {
      "cell_type": "code",
      "source": [
        "alphas = torch.ones(T, T) / T\n",
        "\n",
        "print(\"alphas:\")\n",
        "print(alphas.shape)\n",
        "print(alphas)"
      ],
      "metadata": {
        "colab": {
          "base_uri": "https://localhost:8080/"
        },
        "id": "NhcbAPxd8XRP",
        "outputId": "cbd01883-f15c-4a1d-d021-64ac96242d94"
      },
      "execution_count": null,
      "outputs": [
        {
          "output_type": "stream",
          "name": "stdout",
          "text": [
            "alphas:\n",
            "torch.Size([8, 8])\n",
            "tensor([[0.1250, 0.1250, 0.1250, 0.1250, 0.1250, 0.1250, 0.1250, 0.1250],\n",
            "        [0.1250, 0.1250, 0.1250, 0.1250, 0.1250, 0.1250, 0.1250, 0.1250],\n",
            "        [0.1250, 0.1250, 0.1250, 0.1250, 0.1250, 0.1250, 0.1250, 0.1250],\n",
            "        [0.1250, 0.1250, 0.1250, 0.1250, 0.1250, 0.1250, 0.1250, 0.1250],\n",
            "        [0.1250, 0.1250, 0.1250, 0.1250, 0.1250, 0.1250, 0.1250, 0.1250],\n",
            "        [0.1250, 0.1250, 0.1250, 0.1250, 0.1250, 0.1250, 0.1250, 0.1250],\n",
            "        [0.1250, 0.1250, 0.1250, 0.1250, 0.1250, 0.1250, 0.1250, 0.1250],\n",
            "        [0.1250, 0.1250, 0.1250, 0.1250, 0.1250, 0.1250, 0.1250, 0.1250]])\n"
          ]
        }
      ]
    },
    {
      "cell_type": "code",
      "source": [
        "x_out = alphas @ x  # (T, T) @ (B, T, C)  -> (B, T, C)\n",
        "\n",
        "print(\"x_out:\")\n",
        "print(x_out.shape)\n",
        "print(x_out)"
      ],
      "metadata": {
        "colab": {
          "base_uri": "https://localhost:8080/"
        },
        "id": "n-KweMeB8vxj",
        "outputId": "85c50d44-79b9-4498-83cc-f37f7a9db4fe"
      },
      "execution_count": null,
      "outputs": [
        {
          "output_type": "stream",
          "name": "stdout",
          "text": [
            "x_out:\n",
            "torch.Size([4, 8, 3])\n",
            "tensor([[[ 0.6087,  0.1680, -0.3012],\n",
            "         [ 0.6087,  0.1680, -0.3012],\n",
            "         [ 0.6087,  0.1680, -0.3012],\n",
            "         [ 0.6087,  0.1680, -0.3012],\n",
            "         [ 0.6087,  0.1680, -0.3012],\n",
            "         [ 0.6087,  0.1680, -0.3012],\n",
            "         [ 0.6087,  0.1680, -0.3012],\n",
            "         [ 0.6087,  0.1680, -0.3012]],\n",
            "\n",
            "        [[-0.0565,  0.2958, -0.4187],\n",
            "         [-0.0565,  0.2958, -0.4187],\n",
            "         [-0.0565,  0.2958, -0.4187],\n",
            "         [-0.0565,  0.2958, -0.4187],\n",
            "         [-0.0565,  0.2958, -0.4187],\n",
            "         [-0.0565,  0.2958, -0.4187],\n",
            "         [-0.0565,  0.2958, -0.4187],\n",
            "         [-0.0565,  0.2958, -0.4187]],\n",
            "\n",
            "        [[ 0.3912, -0.2375, -0.3172],\n",
            "         [ 0.3912, -0.2375, -0.3172],\n",
            "         [ 0.3912, -0.2375, -0.3172],\n",
            "         [ 0.3912, -0.2375, -0.3172],\n",
            "         [ 0.3912, -0.2375, -0.3172],\n",
            "         [ 0.3912, -0.2375, -0.3172],\n",
            "         [ 0.3912, -0.2375, -0.3172],\n",
            "         [ 0.3912, -0.2375, -0.3172]],\n",
            "\n",
            "        [[ 0.2442, -0.0038, -0.2910],\n",
            "         [ 0.2442, -0.0038, -0.2910],\n",
            "         [ 0.2442, -0.0038, -0.2910],\n",
            "         [ 0.2442, -0.0038, -0.2910],\n",
            "         [ 0.2442, -0.0038, -0.2910],\n",
            "         [ 0.2442, -0.0038, -0.2910],\n",
            "         [ 0.2442, -0.0038, -0.2910],\n",
            "         [ 0.2442, -0.0038, -0.2910]]])\n"
          ]
        }
      ]
    },
    {
      "cell_type": "markdown",
      "source": [
        "Also remember that GPT training is decoder-only, meaning that we cannot see the future tokens but only the previous ones. So we have to zero out α's in the future."
      ],
      "metadata": {
        "id": "wBF--nYk5tnY"
      }
    },
    {
      "cell_type": "code",
      "source": [
        "alphas_decoder = torch.tril(alphas)\n",
        "\n",
        "print(\"alphas_decoder:\")\n",
        "print(alphas_decoder.shape)\n",
        "print(alphas_decoder)\n"
      ],
      "metadata": {
        "colab": {
          "base_uri": "https://localhost:8080/"
        },
        "id": "C_Vtwg8P9AOs",
        "outputId": "2ac90553-cc8f-40ab-a067-f092c7bb5ec0"
      },
      "execution_count": null,
      "outputs": [
        {
          "output_type": "stream",
          "name": "stdout",
          "text": [
            "alphas_decoder:\n",
            "torch.Size([8, 8])\n",
            "tensor([[0.1250, 0.0000, 0.0000, 0.0000, 0.0000, 0.0000, 0.0000, 0.0000],\n",
            "        [0.1250, 0.1250, 0.0000, 0.0000, 0.0000, 0.0000, 0.0000, 0.0000],\n",
            "        [0.1250, 0.1250, 0.1250, 0.0000, 0.0000, 0.0000, 0.0000, 0.0000],\n",
            "        [0.1250, 0.1250, 0.1250, 0.1250, 0.0000, 0.0000, 0.0000, 0.0000],\n",
            "        [0.1250, 0.1250, 0.1250, 0.1250, 0.1250, 0.0000, 0.0000, 0.0000],\n",
            "        [0.1250, 0.1250, 0.1250, 0.1250, 0.1250, 0.1250, 0.0000, 0.0000],\n",
            "        [0.1250, 0.1250, 0.1250, 0.1250, 0.1250, 0.1250, 0.1250, 0.0000],\n",
            "        [0.1250, 0.1250, 0.1250, 0.1250, 0.1250, 0.1250, 0.1250, 0.1250]])\n"
          ]
        }
      ]
    },
    {
      "cell_type": "code",
      "source": [
        "alphas_decoder = alphas_decoder / alphas_decoder.sum(dim=1, keepdim=True)\n",
        "\n",
        "print(\"alphas_decoder:\")\n",
        "print(alphas_decoder.shape)\n",
        "print(alphas_decoder)"
      ],
      "metadata": {
        "colab": {
          "base_uri": "https://localhost:8080/"
        },
        "id": "1Wdbj0wg9KbI",
        "outputId": "7e7e2c20-66dc-4faf-efb6-bdda22a7096f"
      },
      "execution_count": null,
      "outputs": [
        {
          "output_type": "stream",
          "name": "stdout",
          "text": [
            "alphas_decoder:\n",
            "torch.Size([8, 8])\n",
            "tensor([[1.0000, 0.0000, 0.0000, 0.0000, 0.0000, 0.0000, 0.0000, 0.0000],\n",
            "        [0.5000, 0.5000, 0.0000, 0.0000, 0.0000, 0.0000, 0.0000, 0.0000],\n",
            "        [0.3333, 0.3333, 0.3333, 0.0000, 0.0000, 0.0000, 0.0000, 0.0000],\n",
            "        [0.2500, 0.2500, 0.2500, 0.2500, 0.0000, 0.0000, 0.0000, 0.0000],\n",
            "        [0.2000, 0.2000, 0.2000, 0.2000, 0.2000, 0.0000, 0.0000, 0.0000],\n",
            "        [0.1667, 0.1667, 0.1667, 0.1667, 0.1667, 0.1667, 0.0000, 0.0000],\n",
            "        [0.1429, 0.1429, 0.1429, 0.1429, 0.1429, 0.1429, 0.1429, 0.0000],\n",
            "        [0.1250, 0.1250, 0.1250, 0.1250, 0.1250, 0.1250, 0.1250, 0.1250]])\n"
          ]
        }
      ]
    },
    {
      "cell_type": "code",
      "source": [
        "# Now we have masked attention\n",
        "x_out = alphas_decoder @ x\n",
        "\n",
        "print(\"x_out:\")\n",
        "print(x_out.shape)\n",
        "print(x_out)\n"
      ],
      "metadata": {
        "colab": {
          "base_uri": "https://localhost:8080/"
        },
        "id": "vizhkaXV9lbd",
        "outputId": "f982a971-5073-4a4d-aa31-7797874f0f84"
      },
      "execution_count": null,
      "outputs": [
        {
          "output_type": "stream",
          "name": "stdout",
          "text": [
            "x_out:\n",
            "torch.Size([4, 8, 3])\n",
            "tensor([[[ 1.6095,  1.4372, -1.0256],\n",
            "         [ 1.1279, -0.0969, -0.4433],\n",
            "         [ 0.6403, -0.0120, -0.4341],\n",
            "         [ 0.6025,  0.0045, -0.4485],\n",
            "         [ 0.4825,  0.3327, -0.2477],\n",
            "         [ 0.5049,  0.2655, -0.0748],\n",
            "         [ 0.6058,  0.1174, -0.1977],\n",
            "         [ 0.6087,  0.1680, -0.3012]],\n",
            "\n",
            "        [[-0.0364,  0.4102, -1.4345],\n",
            "         [ 0.6775,  0.7186, -0.5254],\n",
            "         [ 0.6011,  0.4770, -0.0387],\n",
            "         [ 0.6814,  0.1977, -0.2902],\n",
            "         [ 0.3665,  0.0268, -0.3864],\n",
            "         [ 0.2827, -0.1098, -0.5452],\n",
            "         [ 0.0419, -0.0154, -0.4765],\n",
            "         [-0.0565,  0.2958, -0.4187]],\n",
            "\n",
            "        [[-0.3535,  0.8668,  0.4701],\n",
            "         [-0.2082,  0.3953, -0.5823],\n",
            "         [ 0.4224, -0.2470, -0.0622],\n",
            "         [ 0.4747, -0.1181,  0.1678],\n",
            "         [ 0.5791,  0.0162,  0.1556],\n",
            "         [ 0.3872, -0.1524, -0.2686],\n",
            "         [ 0.3266, -0.0922, -0.2904],\n",
            "         [ 0.3912, -0.2375, -0.3172]],\n",
            "\n",
            "        [[-0.3229,  0.6842, -0.6908],\n",
            "         [-0.0378,  0.9398, -0.5293],\n",
            "         [-0.1928,  0.8509, -0.8116],\n",
            "         [-0.4771,  0.5050, -0.5449],\n",
            "         [ 0.1069,  0.3499, -0.5385],\n",
            "         [ 0.0739,  0.3564, -0.4880],\n",
            "         [ 0.1183,  0.0556, -0.3132],\n",
            "         [ 0.2442, -0.0038, -0.2910]]])\n"
          ]
        }
      ]
    },
    {
      "cell_type": "code",
      "source": [
        "# Or, we can use the softmax function\n",
        "import torch.nn.functional as F\n",
        "\n",
        "alphas_decoder = torch.tril(torch.ones(T, T))\n",
        "alphas_decoder = alphas_decoder.masked_fill(alphas_decoder == 0, float(\"-inf\"))\n",
        "alphas_decoder = F.softmax(alphas_decoder, dim=1)\n",
        "\n",
        "print(\"alphas_decoder:\")\n",
        "print(alphas_decoder.shape)\n",
        "print(alphas_decoder)\n",
        "\n"
      ],
      "metadata": {
        "colab": {
          "base_uri": "https://localhost:8080/"
        },
        "id": "71HhHke592uY",
        "outputId": "6e0a4594-5a18-4fdd-d0d5-7b7b0c4d3c62"
      },
      "execution_count": null,
      "outputs": [
        {
          "output_type": "stream",
          "name": "stdout",
          "text": [
            "alphas_decoder:\n",
            "torch.Size([8, 8])\n",
            "tensor([[1.0000, 0.0000, 0.0000, 0.0000, 0.0000, 0.0000, 0.0000, 0.0000],\n",
            "        [0.5000, 0.5000, 0.0000, 0.0000, 0.0000, 0.0000, 0.0000, 0.0000],\n",
            "        [0.3333, 0.3333, 0.3333, 0.0000, 0.0000, 0.0000, 0.0000, 0.0000],\n",
            "        [0.2500, 0.2500, 0.2500, 0.2500, 0.0000, 0.0000, 0.0000, 0.0000],\n",
            "        [0.2000, 0.2000, 0.2000, 0.2000, 0.2000, 0.0000, 0.0000, 0.0000],\n",
            "        [0.1667, 0.1667, 0.1667, 0.1667, 0.1667, 0.1667, 0.0000, 0.0000],\n",
            "        [0.1429, 0.1429, 0.1429, 0.1429, 0.1429, 0.1429, 0.1429, 0.0000],\n",
            "        [0.1250, 0.1250, 0.1250, 0.1250, 0.1250, 0.1250, 0.1250, 0.1250]])\n"
          ]
        }
      ]
    },
    {
      "cell_type": "code",
      "source": [
        "# verify using a for loop.\n",
        "x_out2 = torch.zeros(B, T, C)\n",
        "\n",
        "for b in range(B):\n",
        "    for t in range(T):\n",
        "        xprev = x[b, :t + 1]\n",
        "        x_out2[b, t] = torch.mean(xprev, dim=0)\n",
        "\n",
        "print(x_out2)\n",
        "print(torch.allclose(x_out, x_out2))\n",
        "\n"
      ],
      "metadata": {
        "colab": {
          "base_uri": "https://localhost:8080/"
        },
        "id": "V6p7ZaJi5dF4",
        "outputId": "5876c307-ea1a-40fb-bc9b-6e64d5343fc5"
      },
      "execution_count": null,
      "outputs": [
        {
          "output_type": "stream",
          "name": "stdout",
          "text": [
            "tensor([[[ 1.6095,  1.4372, -1.0256],\n",
            "         [ 1.1279, -0.0969, -0.4433],\n",
            "         [ 0.6403, -0.0120, -0.4341],\n",
            "         [ 0.6025,  0.0045, -0.4485],\n",
            "         [ 0.4825,  0.3327, -0.2477],\n",
            "         [ 0.5049,  0.2655, -0.0748],\n",
            "         [ 0.6058,  0.1174, -0.1977],\n",
            "         [ 0.6087,  0.1680, -0.3012]],\n",
            "\n",
            "        [[-0.0364,  0.4102, -1.4345],\n",
            "         [ 0.6775,  0.7186, -0.5254],\n",
            "         [ 0.6011,  0.4770, -0.0387],\n",
            "         [ 0.6814,  0.1977, -0.2902],\n",
            "         [ 0.3665,  0.0268, -0.3864],\n",
            "         [ 0.2827, -0.1098, -0.5452],\n",
            "         [ 0.0419, -0.0154, -0.4765],\n",
            "         [-0.0565,  0.2958, -0.4187]],\n",
            "\n",
            "        [[-0.3535,  0.8668,  0.4701],\n",
            "         [-0.2082,  0.3953, -0.5823],\n",
            "         [ 0.4224, -0.2470, -0.0622],\n",
            "         [ 0.4747, -0.1181,  0.1678],\n",
            "         [ 0.5791,  0.0162,  0.1556],\n",
            "         [ 0.3872, -0.1524, -0.2686],\n",
            "         [ 0.3266, -0.0922, -0.2904],\n",
            "         [ 0.3912, -0.2375, -0.3172]],\n",
            "\n",
            "        [[-0.3229,  0.6842, -0.6908],\n",
            "         [-0.0378,  0.9398, -0.5293],\n",
            "         [-0.1928,  0.8509, -0.8116],\n",
            "         [-0.4771,  0.5050, -0.5449],\n",
            "         [ 0.1069,  0.3499, -0.5385],\n",
            "         [ 0.0739,  0.3564, -0.4880],\n",
            "         [ 0.1183,  0.0556, -0.3132],\n",
            "         [ 0.2442, -0.0038, -0.2910]]])\n",
            "True\n"
          ]
        }
      ]
    },
    {
      "cell_type": "markdown",
      "source": [
        "Now let's get into self attention!"
      ],
      "metadata": {
        "id": "IeillcO8-2sg"
      }
    },
    {
      "cell_type": "code",
      "source": [
        "import torch.nn as nn\n",
        "\n",
        "head_size = 16\n",
        "key = nn.Linear(C, head_size)\n",
        "query = nn.Linear(C, head_size)\n",
        "value = nn.Linear(C, head_size)\n",
        "\n",
        "k = key(x)    # B, T, 16\n",
        "q = query(x)  # B, T, 16\n",
        "v = value(x)  # B, T, 16\n",
        "\n",
        "attention = q @ k.transpose(-2, -1)  # (B, T, 16) @ (B, 16, T) -> B, T, T\n",
        "attention = torch.tril(attention)\n",
        "attention = attention.masked_fill(attention==0, float(\"-inf\"))\n",
        "attention = F.softmax(attention, dim=-1)  # B, T, T\n",
        "\n",
        "x_out = attention @ v  # (B, T, T) @ (B, T, 16)  --> (B, T, 16)\n",
        "\n",
        "print(\"attention:\")\n",
        "print(attention.shape)\n",
        "print(attention[0])\n",
        "\n",
        "print(\"x_out:\")\n",
        "print(x_out.shape)\n",
        "print(x_out[0])"
      ],
      "metadata": {
        "colab": {
          "base_uri": "https://localhost:8080/"
        },
        "id": "ng0YLUuD7Yoo",
        "outputId": "bfbf6cdc-3d80-4c01-ee3e-5f508ff8d780"
      },
      "execution_count": null,
      "outputs": [
        {
          "output_type": "stream",
          "name": "stdout",
          "text": [
            "attention:\n",
            "torch.Size([4, 8, 8])\n",
            "tensor([[1.0000e+00, 0.0000e+00, 0.0000e+00, 0.0000e+00, 0.0000e+00, 0.0000e+00,\n",
            "         0.0000e+00, 0.0000e+00],\n",
            "        [1.2261e-03, 9.9877e-01, 0.0000e+00, 0.0000e+00, 0.0000e+00, 0.0000e+00,\n",
            "         0.0000e+00, 0.0000e+00],\n",
            "        [1.4965e-01, 5.9589e-01, 2.5445e-01, 0.0000e+00, 0.0000e+00, 0.0000e+00,\n",
            "         0.0000e+00, 0.0000e+00],\n",
            "        [3.9149e-02, 7.4848e-01, 8.8343e-02, 1.2403e-01, 0.0000e+00, 0.0000e+00,\n",
            "         0.0000e+00, 0.0000e+00],\n",
            "        [8.6056e-01, 1.5038e-02, 2.5603e-02, 6.4491e-02, 3.4304e-02, 0.0000e+00,\n",
            "         0.0000e+00, 0.0000e+00],\n",
            "        [1.5126e-01, 4.7517e-01, 1.2620e-01, 2.0211e-01, 7.6098e-03, 3.7651e-02,\n",
            "         0.0000e+00, 0.0000e+00],\n",
            "        [6.9910e-04, 8.0632e-01, 1.3459e-02, 1.7226e-02, 2.4279e-04, 1.4043e-02,\n",
            "         1.4801e-01, 0.0000e+00],\n",
            "        [2.8230e-02, 4.7109e-01, 4.0522e-02, 6.9950e-02, 9.7615e-03, 8.6299e-02,\n",
            "         2.4889e-01, 4.5259e-02]], grad_fn=<SelectBackward0>)\n",
            "x_out:\n",
            "torch.Size([4, 8, 16])\n",
            "tensor([[ 1.1435,  0.6968,  0.6638, -0.6777,  0.1143,  0.2674, -1.0563,  0.0876,\n",
            "         -1.2341, -0.8518,  0.2077,  1.1754,  0.8425,  0.2318, -0.4612,  0.3924],\n",
            "        [ 0.1371, -0.7714, -0.8328, -0.3282,  0.0610, -0.2005, -0.7246,  1.0326,\n",
            "         -0.4532, -0.3573,  1.2069,  0.7967,  0.9231, -0.2845,  0.3689, -0.2726],\n",
            "        [ 0.2110, -0.1224, -0.4732, -0.2681,  0.2449, -0.2593, -0.6693,  0.6092,\n",
            "         -0.4650, -0.5344,  0.7948,  0.7241,  0.7543, -0.1565,  0.2186, -0.2850],\n",
            "        [ 0.1691, -0.4180, -0.6437, -0.2891,  0.1655, -0.2393, -0.6920,  0.8033,\n",
            "         -0.4530, -0.4550,  0.9840,  0.7523,  0.8320, -0.2181,  0.2926, -0.2890],\n",
            "        [ 1.0073,  0.6798,  0.5459, -0.6158,  0.1606,  0.1811, -0.9676,  0.0844,\n",
            "         -1.1068, -0.8137,  0.2219,  1.0862,  0.7663,  0.2016, -0.3859,  0.3062],\n",
            "        [ 0.2897, -0.0570, -0.3782, -0.3169,  0.2259, -0.2062, -0.6861,  0.5559,\n",
            "         -0.5241, -0.5425,  0.7406,  0.7588,  0.7317, -0.1152,  0.1550, -0.2039],\n",
            "        [ 0.2096, -0.6467, -0.7176, -0.3243,  0.0839, -0.1853, -0.7771,  0.9745,\n",
            "         -0.5197, -0.4317,  1.1365,  0.8283,  0.9712, -0.2615,  0.3190, -0.2717],\n",
            "        [ 0.3135, -0.3137, -0.4792, -0.3339,  0.1486, -0.1669, -0.7821,  0.7564,\n",
            "         -0.5841, -0.5271,  0.9186,  0.8331,  0.9033, -0.1765,  0.2022, -0.2198]],\n",
            "       grad_fn=<SelectBackward0>)\n"
          ]
        }
      ]
    },
    {
      "cell_type": "markdown",
      "source": [
        "# We are ready to build our GPT"
      ],
      "metadata": {
        "id": "TRzIit6rAVwq"
      }
    },
    {
      "cell_type": "markdown",
      "source": [
        "First let's copy the important things over"
      ],
      "metadata": {
        "id": "fP9BS-z6BU9n"
      }
    },
    {
      "cell_type": "code",
      "source": [],
      "metadata": {
        "id": "Gia2uTV6Itcv"
      },
      "execution_count": null,
      "outputs": []
    },
    {
      "cell_type": "code",
      "source": [
        "import torch\n",
        "import torch.nn as nn\n",
        "import torch.nn.functional as F"
      ],
      "metadata": {
        "id": "QxKjIpZVBvt5"
      },
      "execution_count": null,
      "outputs": []
    },
    {
      "cell_type": "code",
      "source": [
        "batch_size = 64 # how many independent sequences will we process in parallel?\n",
        "block_size = 256 # what is the maximum context length for predictions?\n",
        "\n",
        "# read data\n",
        "with open('/content/drive/MyDrive/elon_tweets_clean.txt', 'r', encoding='utf-8') as f:\n",
        "    text = f.read()\n",
        "\n",
        "# tokenize data\n",
        "class MyTokenizer():\n",
        "    def __init__(self, text):\n",
        "        self.text = text\n",
        "        self.chars = sorted(list(set(text)))\n",
        "        self.vocab_size = len(self.chars)\n",
        "        self.stoi = { ch:i for i,ch in enumerate(self.chars) }\n",
        "        self.itos = { i:ch for i,ch in enumerate(self.chars) }\n",
        "\n",
        "    def encode(self, s):\n",
        "        return [self.stoi[c] for c in s]\n",
        "\n",
        "    def decode(self, l):\n",
        "        return ''.join([self.itos[i] for i in l])\n",
        "\n",
        "tokenizer = MyTokenizer(text)\n",
        "\n",
        "data = torch.tensor(tokenizer.encode(text))\n",
        "\n",
        "# split train and validation data\n",
        "def split_data():\n",
        "    n = int(0.9*len(text))\n",
        "    return data[:n], data[n:]\n",
        "\n",
        "train_data, val_data = split_data()\n",
        "\n",
        "# function to get minibatched data\n",
        "def get_batch(split):\n",
        "    data = train_data if split == 'train' else val_data\n",
        "    ix = torch.randint(len(data) - block_size, (batch_size,))\n",
        "    x = torch.stack([data[i:i+block_size] for i in ix])\n",
        "    y = torch.stack([data[i+1:i+block_size+1] for i in ix])\n",
        "    return x, y\n"
      ],
      "metadata": {
        "id": "hQteVWVIBtWg"
      },
      "execution_count": null,
      "outputs": []
    },
    {
      "cell_type": "markdown",
      "source": [
        "Now let's write the model"
      ],
      "metadata": {
        "id": "LxdHVRLfCY5B"
      }
    },
    {
      "cell_type": "code",
      "source": [
        "device = torch.device(\"cuda\" if torch.cuda.is_available() else \"cpu\")\n",
        "class AttentionHead(nn.Module):\n",
        "    def __init__(self, in_features, head_size, dropout=0.2):\n",
        "        super().__init__()\n",
        "        self.key = nn.Linear(in_features, head_size, bias=False)\n",
        "        self.query = nn.Linear(in_features, head_size, bias=False)\n",
        "        self.value = nn.Linear(in_features, head_size, bias=False)\n",
        "        self.register_buffer('mask', torch.tril(torch.ones(block_size, block_size)))\n",
        "\n",
        "        self.dropout = nn.Dropout(dropout)\n",
        "\n",
        "    def forward(self, x):\n",
        "        B, T, C = x.shape\n",
        "\n",
        "        query = self.query(x)  # B, T, hs\n",
        "        key = self.key(x)      # B, T, hs\n",
        "        value = self.value(x)  # B, T, hs\n",
        "\n",
        "        attention = query @ key.transpose(-2, -1) * key.shape[-1] ** -0.5  # B, T, T\n",
        "        attention = torch.tril(attention)\n",
        "        attention = attention.masked_fill(attention==0, float(\"-inf\"))\n",
        "        attention = F.softmax(attention, dim=-1)\n",
        "\n",
        "        out = attention @ value  # (B, T, T) @ (B, T, hs)  --> (B, T, hs)\n",
        "        return self.dropout(out)\n",
        "\n",
        "class MultiHeadAttention(nn.Module):\n",
        "    def __init__(self, in_features, num_heads, head_size, dropout=0.2):\n",
        "        super().__init__()\n",
        "        self.sa_heads = nn.ModuleList([AttentionHead(in_features, head_size, dropout) for _ in range(num_heads)])\n",
        "        self.proj = nn.Linear(head_size * num_heads, in_features)\n",
        "        self.dropout = nn.Dropout(dropout)\n",
        "\n",
        "    def forward(self, x):\n",
        "        out = torch.cat([h(x) for h in self.sa_heads], dim=-1)\n",
        "        out = self.dropout(self.proj(out))\n",
        "        return out\n",
        "\n",
        "\n",
        "class FeedForward(nn.Module):\n",
        "    def __init__(self, in_features, out_features, dropout=0.2):\n",
        "        super().__init__()\n",
        "        self.fc = nn.Sequential(\n",
        "            nn.Linear(in_features, out_features),\n",
        "            nn.ReLU(),\n",
        "            nn.Linear(out_features, in_features),\n",
        "            nn.Dropout(dropout)\n",
        "        )\n",
        "\n",
        "    def forward(self, x):\n",
        "        return self.fc(x)\n",
        "\n",
        "\n",
        "class TransformerBlock(nn.Module):\n",
        "    def __init__(self, in_features, num_heads, dropout=0.2):\n",
        "        super().__init__()\n",
        "        head_size = in_features // num_heads\n",
        "        self.mhsa = MultiHeadAttention(in_features, num_heads, head_size, dropout)\n",
        "        self.ff = FeedForward(in_features, in_features * 4, dropout)\n",
        "        self.norm1 = nn.LayerNorm(in_features)\n",
        "        self.norm2 = nn.LayerNorm(in_features)\n",
        "\n",
        "    def forward(self, x):\n",
        "        out = x + self.mhsa(self.norm1(x))\n",
        "        out = out + self.ff(self.norm2(out))\n",
        "        return out\n",
        "\n",
        "\n",
        "class GPT(nn.Module):\n",
        "    def __init__(self, num_layers, in_features, num_heads, dropout=0.2):\n",
        "        super().__init__()\n",
        "        self.token_embedding_table = nn.Embedding(tokenizer.vocab_size, in_features)\n",
        "        self.pos_embedding_table = nn.Embedding(block_size, in_features)\n",
        "        self.transformer_blocks = nn.Sequential(*[TransformerBlock(in_features, num_heads, dropout) for _ in range(num_layers)])\n",
        "        self.norm = nn.LayerNorm(in_features)\n",
        "        self.to_vocab = nn.Linear(in_features, tokenizer.vocab_size)\n",
        "\n",
        "        self.apply(self._init_weights)\n",
        "\n",
        "    def _init_weights(self, module):\n",
        "        if isinstance(module, nn.Linear):\n",
        "            torch.nn.init.normal_(module.weight, mean=0.0, std=0.02)\n",
        "            if module.bias is not None:\n",
        "                torch.nn.init.zeros_(module.bias)\n",
        "        elif isinstance(module, nn.Embedding):\n",
        "            torch.nn.init.normal_(module.weight, mean=0.0, std=0.02)\n",
        "\n",
        "\n",
        "    def forward(self, idx, targets=None):\n",
        "        B, T = idx.shape\n",
        "\n",
        "        # idx and targets are both (B,T) tensor of integers\n",
        "        tok_emb = self.token_embedding_table(idx) # (B,T,C)\n",
        "        pos_emb = self.pos_embedding_table(torch.arange(T, device=device)) # (T,C)\n",
        "        x = tok_emb + pos_emb # (B,T,C)\n",
        "        x = self.transformer_blocks(x) # (B,T,C)\n",
        "        x = self.norm(x) # (B,T,C)\n",
        "        logits = self.to_vocab(x) # (B,T,vocab_size)\n",
        "\n",
        "        if targets is None:\n",
        "            loss = None\n",
        "        else:\n",
        "            B, T, C = logits.shape\n",
        "            logits = logits.view(B*T, C)\n",
        "            targets = targets.view(B*T)\n",
        "            loss = F.cross_entropy(logits, targets)\n",
        "\n",
        "        return logits, loss\n",
        "\n",
        "    def generate(self, idx, max_new_tokens):\n",
        "        # idx is (B, T) array of indices in the current context\n",
        "        for _ in range(max_new_tokens):\n",
        "            # crop idx to the last block_size tokens\n",
        "            idx_cond = idx[:, -block_size:]\n",
        "            # get the predictions\n",
        "            logits, loss = self(idx_cond)\n",
        "            # focus only on the last time step\n",
        "            logits = logits[:, -1, :] # becomes (B, C)\n",
        "            # apply softmax to get probabilities\n",
        "            probs = F.softmax(logits, dim=-1) # (B, C)\n",
        "            # sample from the distribution\n",
        "            idx_next = torch.multinomial(probs, num_samples=1) # (B, 1)\n",
        "            # append sampled index to the running sequence\n",
        "            idx = torch.cat((idx, idx_next), dim=1) # (B, T+1)\n",
        "        return idx\n",
        "\n"
      ],
      "metadata": {
        "id": "4n71mbxsCYHn"
      },
      "execution_count": null,
      "outputs": []
    },
    {
      "cell_type": "code",
      "source": [
        "model = GPT(num_layers=6, in_features=384, num_heads=6, dropout=0.2).to(device)\n",
        "\n",
        "\n",
        "\n"
      ],
      "metadata": {
        "id": "jTg9zJSdGIvO"
      },
      "execution_count": null,
      "outputs": []
    },
    {
      "cell_type": "code",
      "source": [
        "model(torch.ones((1, 1), dtype=torch.long, device=device))"
      ],
      "metadata": {
        "colab": {
          "base_uri": "https://localhost:8080/"
        },
        "id": "_uT0e0aUGWly",
        "outputId": "4179efbf-2609-423c-ab9c-3ef2344bea4a"
      },
      "execution_count": null,
      "outputs": [
        {
          "output_type": "execute_result",
          "data": {
            "text/plain": [
              "(tensor([[[-0.6249, -0.2160, -0.2020,  0.6668,  0.3861,  0.4780, -0.8737,\n",
              "            0.0178, -0.3528, -0.3960, -0.3978, -0.0425,  0.2534, -0.0182,\n",
              "           -0.2323, -0.7897,  0.1599,  0.6745, -0.1170, -0.0579,  0.0859,\n",
              "            0.2598, -0.0513, -0.2089,  0.6065, -0.2247, -0.2193,  0.4986,\n",
              "           -0.2904, -0.0816, -0.3662, -0.1119,  0.3822, -0.2176,  0.1611,\n",
              "            0.4448, -1.1988, -0.3022, -0.2296,  0.7079, -0.6424, -0.1768,\n",
              "           -0.5570,  0.0848, -0.2736,  0.3014,  0.1740,  0.1582,  0.2188,\n",
              "            0.1466, -0.4726, -0.5821,  0.2941,  0.5394,  0.4105, -0.9627,\n",
              "           -0.1273,  0.5305, -0.6334,  0.3842, -0.4210, -0.3546, -0.0940,\n",
              "            0.8981, -0.1841, -0.2843,  0.7013, -0.1818, -0.2039,  0.1585,\n",
              "           -0.4321, -0.3046,  0.0233, -0.6696, -0.3369, -0.7160,  0.0016,\n",
              "            0.2013, -0.0175, -0.2642, -0.0686,  0.3063,  0.6997,  0.6922,\n",
              "            0.1623, -0.2941,  0.8568, -0.0916, -0.0185, -0.0543, -0.0657,\n",
              "            0.3333,  0.1782, -0.1068,  0.4758,  0.0304, -0.2042,  0.2612,\n",
              "           -0.1105,  0.1477,  0.3250, -0.5134,  0.4062, -0.6438,  0.3320,\n",
              "            0.5715, -0.5645, -0.2251,  0.9024,  0.9781,  0.8594, -0.8651,\n",
              "            0.9795,  0.0020,  0.3380, -0.1566,  0.1921,  0.1087, -0.2385,\n",
              "           -0.4050, -0.0462, -0.0161, -0.4424,  0.4597, -0.1788, -0.0996,\n",
              "           -0.6842, -0.3486, -1.2814, -0.8742, -0.1748, -0.5230,  0.3217,\n",
              "            0.0097, -0.0857, -0.4366, -0.7047,  0.0258, -0.1294,  0.2210,\n",
              "            0.0819, -0.1196,  0.5844, -0.1030,  0.0240,  0.2395, -0.8100,\n",
              "            0.0480,  0.2191,  0.1645, -0.1738, -0.6621,  0.0893,  0.4213,\n",
              "            0.0431,  0.0979,  0.4733, -0.5132, -0.0151, -0.1434, -0.0187,\n",
              "            0.2924,  0.2000,  0.5054,  0.4324, -0.0162,  0.2360,  0.6229,\n",
              "            0.1965, -0.0668, -0.3703,  0.0518, -0.3730,  0.4924,  0.4872,\n",
              "            0.0123,  0.1135,  0.8798, -0.2492,  0.2709, -0.1341,  0.3560,\n",
              "            0.1117, -0.5363,  0.2031,  0.0267,  0.6821, -0.4075,  0.7090,\n",
              "            0.9485,  0.5608,  0.3206,  0.1186, -0.1625,  0.3916,  0.6400,\n",
              "            0.2745, -0.1670,  0.6141, -0.1531, -0.0205,  0.5380,  0.1855,\n",
              "            0.3348, -0.4099,  0.2268, -1.0664, -0.5406, -0.3321,  0.1948,\n",
              "           -0.2733,  0.1300,  0.2078,  0.5552]]], device='cuda:0',\n",
              "        grad_fn=<ViewBackward0>),\n",
              " None)"
            ]
          },
          "metadata": {},
          "execution_count": 20
        }
      ]
    },
    {
      "cell_type": "code",
      "source": [
        "max_iters = 5000\n",
        "eval_interval = 500\n",
        "learning_rate = 3e-4\n",
        "device = 'cuda' if torch.cuda.is_available() else 'cpu'\n",
        "eval_iters = 200\n",
        "\n",
        "# create a PyTorch optimizer\n",
        "optimizer = torch.optim.AdamW(model.parameters(), lr=learning_rate)\n",
        "@torch.no_grad()\n",
        "def estimate_loss():\n",
        "    out = {}\n",
        "    model.eval()\n",
        "    for split in ['train', 'val']:\n",
        "        losses = torch.zeros(eval_iters)\n",
        "        for k in range(eval_iters):\n",
        "            X, Y = get_batch(split)\n",
        "            X, Y = X.to(device), Y.to(device)\n",
        "            logits, loss = model(X, Y)\n",
        "            losses[k] = loss.item()\n",
        "        out[split] = losses.mean()\n",
        "    model.train()\n",
        "    return out\n",
        "\n",
        "for iter in range(max_iters):\n",
        "\n",
        "    # every once in a while evaluate the loss on train and val sets\n",
        "    if iter % eval_interval == 0 or iter == max_iters - 1:\n",
        "        losses = estimate_loss()\n",
        "        print(f\"step {iter}: train loss {losses['train']:.4f}, val loss {losses['val']:.4f}\")\n",
        "\n",
        "    # sample a batch of data\n",
        "    xb, yb = get_batch('train')\n",
        "    xb, yb = xb.to(device), yb.to(device)\n",
        "\n",
        "    # evaluate the loss\n",
        "    logits, loss = model(xb, yb)\n",
        "    optimizer.zero_grad(set_to_none=True)\n",
        "    loss.backward()\n",
        "    optimizer.step()\n",
        "\n",
        "# generate from the model\n",
        "context = torch.zeros((1, 1), dtype=torch.long, device=device)\n",
        "print(tokenizer.decode(model.generate(context, max_new_tokens=500)[0].tolist()))"
      ],
      "metadata": {
        "colab": {
          "base_uri": "https://localhost:8080/"
        },
        "id": "kBnB7JJRGZpa",
        "outputId": "4ee18b1d-10ec-4c3d-9df1-f1e2ef269226"
      },
      "execution_count": null,
      "outputs": [
        {
          "output_type": "stream",
          "name": "stdout",
          "text": [
            "step 0: train loss 5.5606, val loss 5.5610\n",
            "step 500: train loss 1.7661, val loss 1.7818\n",
            "step 1000: train loss 1.4655, val loss 1.4887\n",
            "step 1500: train loss 1.3616, val loss 1.3975\n",
            "step 2000: train loss 1.3019, val loss 1.3511\n",
            "step 2500: train loss 1.2688, val loss 1.3225\n",
            "step 3000: train loss 1.2345, val loss 1.2947\n",
            "step 3500: train loss 1.2124, val loss 1.2799\n",
            "step 4000: train loss 1.1915, val loss 1.2758\n",
            "step 4500: train loss 1.1741, val loss 1.2606\n",
            "step 4999: train loss 1.1561, val loss 1.2566\n",
            "\n",
            " and i saw many dumping your midterm in the entire. you ask off it. you are on past the chatrel. i read human behind he is critical protect with re-now is open up and sucky up the lready off trial!! you will tweet all this kinda soft elon’s try to note! same. but you have no idea to talk like stop throughout.\n",
            " hill make a democracy trade and we have no project so he did, he holder, whose he symptoms… reinstand… cry basic telegraters have a simple bitcoy. indeed.\n",
            " also i agree of hype family taki\n"
          ]
        }
      ]
    },
    {
      "cell_type": "markdown",
      "source": [],
      "metadata": {
        "id": "5dr4cYcbPAJ4"
      }
    },
    {
      "cell_type": "code",
      "source": [
        "context = torch.zeros((1, 1), dtype=torch.long, device=device) + 45\n",
        "print(tokenizer.decode(model.generate(context, max_new_tokens=1500)[0].tolist()))"
      ],
      "metadata": {
        "colab": {
          "base_uri": "https://localhost:8080/"
        },
        "id": "9xy4g5YZG1O1",
        "outputId": "f51a9c28-c5a8-4dcb-ef62-5ff4594e119f"
      },
      "execution_count": null,
      "outputs": [
        {
          "output_type": "stream",
          "name": "stdout",
          "text": [
            "he knowle buy to soprant, invest in part 2022. did you release ? overthrody i can win the oilence of conce with it there. i have shadow been in history public, but an ew market people until the group and twitter user according does to physically express of the hell journalists and actually commentally, as he smarter when you do. lying about puls it lady wont, and holding him. thinking his could not like they take it and we no point, pick and notes when i know, and add for peep from coupics and all needs glip off, and; death exchange.\n",
            " banning yup on the issue. please jeals he or go descreensearch information alives. fix with no monger, …\n",
            " gp. won this, okad bc negit. prove video marxist v.m covid. promine freak of people about it now or lets their polations all office, but this the vote that same will never too win. \n",
            " no, there’s nothing to be placed.\n",
            " what's the stuck?\n",
            " read, until an us top government natural 10,000, folid to twitter \n",
            " but twitter's brilliant vehtbox agi guns into contraining fire indultly mafe. but huh? those goster. i support free speech and even half the demoncracy that could be nufascing it-service.\n",
            "stick on    libs \n",
            " now irred(\n",
            " so coole it's on the main my control you want to hook any day.) \n",
            "'neweir, please make it mind: so the proster which is in a decentry, media out uration. patients, call gets explained the buttern until takeys investmeucle/charging up airperman; /hunger and; applace with the proprile games.\n",
            " you thought, you’re unvabged and sadded\n"
          ]
        }
      ]
    },
    {
      "cell_type": "code",
      "source": [
        "tokenizer.chars"
      ],
      "metadata": {
        "colab": {
          "base_uri": "https://localhost:8080/"
        },
        "id": "culO8UuiKA0E",
        "outputId": "be585b4e-f9cc-4235-9a02-5b04786fe17e"
      },
      "execution_count": null,
      "outputs": [
        {
          "output_type": "execute_result",
          "data": {
            "text/plain": [
              "['\\n',\n",
              " ' ',\n",
              " '!',\n",
              " '#',\n",
              " '$',\n",
              " '%',\n",
              " \"'\",\n",
              " '(',\n",
              " ')',\n",
              " '*',\n",
              " '+',\n",
              " ',',\n",
              " '-',\n",
              " '.',\n",
              " '/',\n",
              " '0',\n",
              " '1',\n",
              " '2',\n",
              " '3',\n",
              " '4',\n",
              " '5',\n",
              " '6',\n",
              " '7',\n",
              " '8',\n",
              " '9',\n",
              " ':',\n",
              " ';',\n",
              " '<',\n",
              " '=',\n",
              " '>',\n",
              " '?',\n",
              " '@',\n",
              " '[',\n",
              " '\\\\',\n",
              " ']',\n",
              " '^',\n",
              " '_',\n",
              " '`',\n",
              " 'a',\n",
              " 'b',\n",
              " 'c',\n",
              " 'd',\n",
              " 'e',\n",
              " 'f',\n",
              " 'g',\n",
              " 'h',\n",
              " 'i',\n",
              " 'j',\n",
              " 'k',\n",
              " 'l',\n",
              " 'm',\n",
              " 'n',\n",
              " 'o',\n",
              " 'p',\n",
              " 'q',\n",
              " 'r',\n",
              " 's',\n",
              " 't',\n",
              " 'u',\n",
              " 'v',\n",
              " 'w',\n",
              " 'x',\n",
              " 'y',\n",
              " 'z',\n",
              " '{',\n",
              " '|',\n",
              " '}',\n",
              " '~',\n",
              " '¡',\n",
              " '£',\n",
              " '§',\n",
              " '©',\n",
              " '«',\n",
              " '®',\n",
              " '¯',\n",
              " '°',\n",
              " '´',\n",
              " '·',\n",
              " '¹',\n",
              " '»',\n",
              " '¿',\n",
              " '×',\n",
              " 'à',\n",
              " 'á',\n",
              " 'â',\n",
              " 'ä',\n",
              " 'æ',\n",
              " 'é',\n",
              " 'ê',\n",
              " 'ë',\n",
              " 'ì',\n",
              " 'í',\n",
              " 'ï',\n",
              " 'ð',\n",
              " 'ñ',\n",
              " 'ò',\n",
              " 'ó',\n",
              " 'ö',\n",
              " 'ú',\n",
              " 'û',\n",
              " 'ü',\n",
              " 'ā',\n",
              " 'ă',\n",
              " 'ą',\n",
              " 'ğ',\n",
              " 'ī',\n",
              " 'į',\n",
              " 'ı',\n",
              " 'ō',\n",
              " 'ś',\n",
              " 'ə',\n",
              " 'ɡ',\n",
              " 'ʖ',\n",
              " 'ˈ',\n",
              " 'ˌ',\n",
              " '˶',\n",
              " '̇',\n",
              " '͜',\n",
              " '͡',\n",
              " 'π',\n",
              " 'в',\n",
              " 'о',\n",
              " 'п',\n",
              " 'р',\n",
              " 'т',\n",
              " 'я',\n",
              " 'ё',\n",
              " 'ђ',\n",
              " 'џ',\n",
              " 'ґ',\n",
              " 'ӿ',\n",
              " '،',\n",
              " 'ا',\n",
              " 'ت',\n",
              " 'ر',\n",
              " 'س',\n",
              " 'ه',\n",
              " 'و',\n",
              " 'ي',\n",
              " 'ِ',\n",
              " 'پ',\n",
              " 'ښ',\n",
              " '۱',\n",
              " '۴',\n",
              " '۸',\n",
              " '۹',\n",
              " 'ध',\n",
              " 'न',\n",
              " 'फ',\n",
              " 'म',\n",
              " 'र',\n",
              " 'व',\n",
              " 'ि',\n",
              " 'ॉ',\n",
              " 'ो',\n",
              " '्',\n",
              " '૮',\n",
              " 'ข',\n",
              " 'ง',\n",
              " 'จ',\n",
              " 'ช',\n",
              " 'ณ',\n",
              " 'ต',\n",
              " 'ท',\n",
              " 'น',\n",
              " 'บ',\n",
              " 'ผ',\n",
              " 'ย',\n",
              " 'ล',\n",
              " 'ว',\n",
              " 'ส',\n",
              " 'ห',\n",
              " 'อ',\n",
              " 'ั',\n",
              " 'า',\n",
              " 'ื',\n",
              " 'ุ',\n",
              " 'โ',\n",
              " '่',\n",
              " '༝',\n",
              " 'ა',\n",
              " 'ḿ',\n",
              " '\\u200b',\n",
              " '\\u200c',\n",
              " '‑',\n",
              " '–',\n",
              " '—',\n",
              " '―',\n",
              " '‘',\n",
              " '’',\n",
              " '“',\n",
              " '”',\n",
              " '„',\n",
              " '•',\n",
              " '…',\n",
              " '‼',\n",
              " '⁉',\n",
              " '€',\n",
              " '₹',\n",
              " '⃣',\n",
              " 'ℎ',\n",
              " '™',\n",
              " '↑',\n",
              " '→',\n",
              " '↓',\n",
              " '√',\n",
              " '≠',\n",
              " '⋆',\n",
              " '⌨',\n",
              " '⏬',\n",
              " '⏰',\n",
              " '⏱',\n",
              " '⏲',\n",
              " '⏳']"
            ]
          },
          "metadata": {},
          "execution_count": 24
        }
      ]
    },
    {
      "cell_type": "code",
      "source": [],
      "metadata": {
        "id": "XWOarWfYPKax"
      },
      "execution_count": null,
      "outputs": []
    }
  ]
}